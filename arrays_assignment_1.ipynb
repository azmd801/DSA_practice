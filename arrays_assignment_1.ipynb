{
  "nbformat": 4,
  "nbformat_minor": 0,
  "metadata": {
    "colab": {
      "provenance": [],
      "authorship_tag": "ABX9TyPjtChWJu1VECfpHvCXs6Zf",
      "include_colab_link": true
    },
    "kernelspec": {
      "name": "python3",
      "display_name": "Python 3"
    },
    "language_info": {
      "name": "python"
    }
  },
  "cells": [
    {
      "cell_type": "markdown",
      "metadata": {
        "id": "view-in-github",
        "colab_type": "text"
      },
      "source": [
        "<a href=\"https://colab.research.google.com/github/azmd801/DSA_practice/blob/main/arrays_assignment_1.ipynb\" target=\"_parent\"><img src=\"https://colab.research.google.com/assets/colab-badge.svg\" alt=\"Open In Colab\"/></a>"
      ]
    },
    {
      "cell_type": "markdown",
      "source": [
        "\n",
        "💡 **Q1.** Given an array of integers nums and an integer target, return indices of the two numbers such that they add up to target.\n",
        "\n",
        "You may assume that each input would have exactly one solution, and you may not use the same element twice.\n",
        "\n",
        "You can return the answer in any order.\n",
        "\n",
        "**Example:**\n",
        "Input: nums = [2,7,11,15], target = 9\n",
        "Output0 [0,1]\n",
        "\n",
        "**Explanation:** Because nums[0] + nums[1] == 9, we return [0, 1][\n",
        "\n",
        "</aside>"
      ],
      "metadata": {
        "id": "nZUnQ-2KHnLQ"
      }
    },
    {
      "cell_type": "code",
      "source": [
        "from typing import List, Optional, Tuple\n",
        "\n",
        "def func(list_of_int: List[int], target: int) -> Optional[Tuple[int, int]]:\n",
        "    \"\"\"\n",
        "    Find indices of two elements in the list such that their sum equals the target.\n",
        "\n",
        "    Args:\n",
        "        list_of_int (List[int]): The list of integers.\n",
        "        target (int): The target sum.\n",
        "\n",
        "    Returns:\n",
        "        Optional[Tuple[int, int]]: A tuple containing indices of two elements if found,\n",
        "        otherwise None.\n",
        "    \"\"\"\n",
        "    # Initialize two pointers, l and r, at the beginning and end of the list\n",
        "    l = 0\n",
        "    r = len(list_of_int) - 1\n",
        "\n",
        "    # Iterate until the two pointers meet or cross\n",
        "    while r > l:\n",
        "        # Check if the sum of elements at l and r is less than the target\n",
        "        if list_of_int[l] + list_of_int[r] < target:\n",
        "            l += 1\n",
        "        # Check if the sum of elements at l and r is greater than the target\n",
        "        elif list_of_int[l] + list_of_int[r] > target:\n",
        "            r -= 1\n",
        "        else:\n",
        "            # If the sum is equal to the target, return the indices\n",
        "            return (l, r)\n",
        "\n",
        "        # Skip duplicate elements from the left\n",
        "        if list_of_int[l] == list_of_int[l - 1]:\n",
        "            l += 1\n",
        "\n",
        "    # Return None if no such indices are found\n",
        "    return None\n",
        "\n",
        "# Example usage\n",
        "print(func(list_of_int=[2, 4, 4, 6, 2], target=8))"
      ],
      "metadata": {
        "colab": {
          "base_uri": "https://localhost:8080/"
        },
        "id": "eIPiD99TRSHR",
        "outputId": "a63b61ff-4dba-41ba-dcf9-133a5ba01680"
      },
      "execution_count": 18,
      "outputs": [
        {
          "output_type": "stream",
          "name": "stdout",
          "text": [
            "(3, 4)\n"
          ]
        }
      ]
    },
    {
      "cell_type": "code",
      "source": [
        "a=1"
      ],
      "metadata": {
        "id": "Zz25Sio1P6-N"
      },
      "execution_count": 7,
      "outputs": []
    },
    {
      "cell_type": "code",
      "source": [
        "a=+1"
      ],
      "metadata": {
        "id": "jSKJri-bP8lq"
      },
      "execution_count": 10,
      "outputs": []
    },
    {
      "cell_type": "code",
      "source": [
        "a"
      ],
      "metadata": {
        "colab": {
          "base_uri": "https://localhost:8080/"
        },
        "id": "ZI_yFfqxP-Lp",
        "outputId": "0cf5629f-8956-4aee-bec3-a63c4a85b3cb"
      },
      "execution_count": 11,
      "outputs": [
        {
          "output_type": "execute_result",
          "data": {
            "text/plain": [
              "1"
            ]
          },
          "metadata": {},
          "execution_count": 11
        }
      ]
    },
    {
      "cell_type": "code",
      "source": [],
      "metadata": {
        "id": "73QyyklJP_Sz"
      },
      "execution_count": null,
      "outputs": []
    }
  ]
}