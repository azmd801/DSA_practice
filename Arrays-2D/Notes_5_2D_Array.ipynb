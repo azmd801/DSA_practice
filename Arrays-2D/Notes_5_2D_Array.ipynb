{
  "nbformat": 4,
  "nbformat_minor": 0,
  "metadata": {
    "colab": {
      "provenance": [],
      "authorship_tag": "ABX9TyOo+q4fxMJPZD/sGqMq2yH1",
      "include_colab_link": true
    },
    "kernelspec": {
      "name": "python3",
      "display_name": "Python 3"
    },
    "language_info": {
      "name": "python"
    }
  },
  "cells": [
    {
      "cell_type": "markdown",
      "metadata": {
        "id": "view-in-github",
        "colab_type": "text"
      },
      "source": [
        "<a href=\"https://colab.research.google.com/github/azmd801/DSA_practice/blob/main/Arrays-2D/Notes_5_2D_Array.ipynb\" target=\"_parent\"><img src=\"https://colab.research.google.com/assets/colab-badge.svg\" alt=\"Open In Colab\"/></a>"
      ]
    },
    {
      "cell_type": "markdown",
      "source": [
        "\n",
        "💡 **Question 1**\n",
        "\n",
        "Given an m x n matrix, return true if the matrix is Toeplitz. Otherwise, return false.\n",
        "A matrix is Toeplitz if every diagonal from top-left to bottom-right has the same elements.\n",
        "\n",
        "![Untitled](https://s3-us-west-2.amazonaws.com/secure.notion-static.com/de645080-efb2-4e1f-b5dd-6df9e712a18a/Untitled.png)\n",
        "\n",
        "**Example 1:**\n",
        "\n",
        "**Input:** matrix = [[1,2,3,4],[5,1,2,3],[9,5,1,2]]\n",
        "**Output:** true\n",
        "\n",
        "</aside>"
      ],
      "metadata": {
        "id": "dmKOmV3t8E5W"
      }
    },
    {
      "cell_type": "code",
      "source": [
        "from typing import List\n",
        "\n",
        "def func(matrix: List[List[int]]) -> bool:\n",
        "    \"\"\"\n",
        "    Check if the given matrix is Toeplitz.\n",
        "    \"\"\"\n",
        "    for i in range(1, len(matrix)):\n",
        "        for j in range(1, len(matrix[0])):\n",
        "            if matrix[i-1][j-1] != matrix[i][j]:\n",
        "                return False\n",
        "\n",
        "    return True\n",
        "\n",
        "# Test the function\n",
        "print(func(matrix=[[1,2,3,4],[5,1,2,3],[9,5,1,2]]))"
      ],
      "metadata": {
        "colab": {
          "base_uri": "https://localhost:8080/"
        },
        "id": "Pppl60RT8Jb2",
        "outputId": "cb20c304-1922-44a7-9b19-f65773c84a70"
      },
      "execution_count": 4,
      "outputs": [
        {
          "output_type": "stream",
          "name": "stdout",
          "text": [
            "True\n"
          ]
        }
      ]
    },
    {
      "cell_type": "markdown",
      "source": [
        "\n",
        "💡 **Question 3**\n",
        "\n",
        "You are given an n x n 2D matrix representing an image, rotate the image by **90** degrees (clockwise).\n",
        "\n",
        "You have to rotate the image **[in-place](https://en.wikipedia.org/wiki/In-place_algorithm)**, which means you have to modify the input 2D matrix directly. **DO NOT** allocate another 2D matrix and do the rotation.\n",
        "\n",
        "**Example 1:**\n",
        "\n",
        "![Untitled](https://s3-us-west-2.amazonaws.com/secure.notion-static.com/349c356c-061b-4f09-819b-32ac3dcb8cdf/Untitled.png)\n",
        "\n",
        "**Input:** matrix = [[1,2,3],[4,5,6],[7,8,9]]\n",
        "\n",
        "**Output:** [[7,4,1],[8,5,2],[9,6,3]]\n",
        "\n",
        "</aside>"
      ],
      "metadata": {
        "id": "j-46TzPY9poP"
      }
    },
    {
      "cell_type": "code",
      "source": [
        "from typing import List\n",
        "\n",
        "def func(matrix: List[List[int]]) -> List[List[int]]:\n",
        "    \"\"\"\n",
        "    Rotate the given matrix by 90 degrees clockwise in-place..\n",
        "    \"\"\"\n",
        "    for i in range(len(matrix)):\n",
        "        for j in range(i, len(matrix[0])):\n",
        "            matrix[i][j], matrix[j][i] = matrix[j][i], matrix[i][j]\n",
        "        matrix[i] = list(reversed(matrix[i]))\n",
        "\n",
        "    return matrix\n",
        "\n",
        "# Test the function\n",
        "print(func(matrix=[[1,2,3],[4,5,6],[7,8,9]]))\n"
      ],
      "metadata": {
        "colab": {
          "base_uri": "https://localhost:8080/"
        },
        "id": "7HZgRXbq93IY",
        "outputId": "1ee93c0c-39ec-4336-e765-7571f6722902"
      },
      "execution_count": 13,
      "outputs": [
        {
          "output_type": "stream",
          "name": "stdout",
          "text": [
            "[[7, 4, 1], [8, 5, 2], [9, 6, 3]]\n"
          ]
        }
      ]
    },
    {
      "cell_type": "markdown",
      "source": [
        "💡 **Question 4**\n",
        "\n",
        "Given a non-empty array of non-negative integers nums, the **degree** of this array is defined as the maximum frequency of any one of its elements.\n",
        "\n",
        "Your task is to find the smallest possible length of a (contiguous) subarray of nums, that has the same degree as nums.\n",
        "\n",
        "**Example 1:**\n",
        "\n",
        "**Input:** nums = [1,2,2,3,1]\n",
        "\n",
        "**Output:** 2\n",
        "\n",
        "**Explanation:**\n",
        "\n",
        "The input array has a degree of 2 because both elements 1 and 2 appear twice.\n",
        "\n",
        "Of the subarrays that have the same degree:\n",
        "\n",
        "[1, 2, 2, 3, 1], [1, 2, 2, 3], [2, 2, 3, 1], [1, 2, 2], [2, 2, 3], [2, 2]\n",
        "\n",
        "The shortest length is 2. So return 2.\n",
        "\n",
        "</aside>"
      ],
      "metadata": {
        "id": "Z0Y2Bl7LB2dw"
      }
    },
    {
      "cell_type": "code",
      "source": [
        "def findShortestSubarray(nums):\n",
        "    \"\"\"\n",
        "    Finds the smallest possible length of a contiguous subarray of nums that has the same degree as nums.\n",
        "    \"\"\"\n",
        "    # Step 1: Create a dictionary to store the frequency of each element\n",
        "    degree_count = {}\n",
        "    for num in nums:\n",
        "        degree_count[num] = degree_count.get(num, 0) + 1\n",
        "\n",
        "    # Step 2: Find the degree of the array\n",
        "    degree = max(degree_count.values())\n",
        "\n",
        "    # Step 3: Iterate through the elements and find the shortest subarray with the same degree\n",
        "    min_length = float('inf')\n",
        "    for num in degree_count:\n",
        "        if degree_count[num] == degree:\n",
        "            left_index = nums.index(num)\n",
        "            right_index = len(nums) - nums[::-1].index(num) - 1\n",
        "            min_length = min(min_length, right_index - left_index + 1)\n",
        "\n",
        "    # Step 5: Return the minimum length of the subarray\n",
        "    return min_length\n",
        "\n",
        "# Test the function\n",
        "nums = [1, 2, 2, 3, 1]\n",
        "print(findShortestSubarray(nums))  # Output: 2"
      ],
      "metadata": {
        "colab": {
          "base_uri": "https://localhost:8080/"
        },
        "id": "fCXVUZrVOHyW",
        "outputId": "c53cd55a-57c7-4b36-aaa2-ba9b1aabaab6"
      },
      "execution_count": 36,
      "outputs": [
        {
          "output_type": "stream",
          "name": "stdout",
          "text": [
            "2\n"
          ]
        }
      ]
    },
    {
      "cell_type": "markdown",
      "source": [],
      "metadata": {
        "id": "HXrCVQXmOHRm"
      }
    },
    {
      "cell_type": "code",
      "source": [],
      "metadata": {
        "id": "mIp256Q4Nyvz"
      },
      "execution_count": null,
      "outputs": []
    }
  ]
}