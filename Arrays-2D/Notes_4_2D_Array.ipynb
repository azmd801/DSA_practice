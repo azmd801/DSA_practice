{
  "nbformat": 4,
  "nbformat_minor": 0,
  "metadata": {
    "colab": {
      "provenance": [],
      "authorship_tag": "ABX9TyNy+7x0C1uI7rbUac7CGRLH",
      "include_colab_link": true
    },
    "kernelspec": {
      "name": "python3",
      "display_name": "Python 3"
    },
    "language_info": {
      "name": "python"
    }
  },
  "cells": [
    {
      "cell_type": "markdown",
      "metadata": {
        "id": "view-in-github",
        "colab_type": "text"
      },
      "source": [
        "<a href=\"https://colab.research.google.com/github/azmd801/DSA_practice/blob/main/Arrays-2D/Notes_4_2D_Array.ipynb\" target=\"_parent\"><img src=\"https://colab.research.google.com/assets/colab-badge.svg\" alt=\"Open In Colab\"/></a>"
      ]
    },
    {
      "cell_type": "code",
      "execution_count": 2,
      "metadata": {
        "colab": {
          "base_uri": "https://localhost:8080/"
        },
        "id": "x1J2yaAzoQIA",
        "outputId": "57818ae0-82aa-4df8-da9a-b9268bf7696d"
      },
      "outputs": [
        {
          "output_type": "stream",
          "name": "stdout",
          "text": [
            "[5, 4, 3, 2]\n"
          ]
        }
      ],
      "source": [
        "print(list(range(5,1,-1)))"
      ]
    },
    {
      "cell_type": "code",
      "source": [],
      "metadata": {
        "id": "0irPOTz-r4fV"
      },
      "execution_count": null,
      "outputs": []
    },
    {
      "cell_type": "markdown",
      "source": [
        "<aside>\n",
        "💡 **Question 1**\n",
        "\n",
        "**Given an m x n matrix, return *all elements of the* matrix *in spiral order*.**\n",
        "\n",
        "**Example 1:**\n",
        "\n",
        "\n",
        "\n",
        "**Input: matrix = [[1,2,3],[4,5,6],[7,8,9]]**\n",
        "\n",
        "**Output: [1,2,3,6,9,8,7,4,5]**\n",
        "\n",
        "</aside>"
      ],
      "metadata": {
        "id": "AFXiMZB9omjo"
      }
    },
    {
      "cell_type": "code",
      "source": [
        "from typing import List\n",
        "\n",
        "def func(matrix: List[List[int]]) -> List[int]:\n",
        "    # Initialize variables for left, upper, right, and lower boundaries\n",
        "    l = 0  # left\n",
        "    u = 0  # upper\n",
        "    r = len(matrix[0]) - 1  # right\n",
        "    d = len(matrix) - 1  # down\n",
        "    result: List[int] = []  # to store the result\n",
        "    # While the boundaries have not crossed each other\n",
        "    while l <= r and u <= d:\n",
        "        # Traverse the upper row from left to right\n",
        "        for i in range(l, r + 1):\n",
        "            result.append(matrix[u][i])\n",
        "        u += 1  # Move down one row after traversing the upper row\n",
        "\n",
        "        # Traverse the rightmost column from top to bottom\n",
        "        for i in range(u, d + 1):\n",
        "            result.append(matrix[i][r])\n",
        "        r -= 1  # Move left one column after traversing the rightmost column\n",
        "\n",
        "        # Traverse the lower row from right to left\n",
        "        # Make sure it's not the same row as the upper row\n",
        "        if u <= d:\n",
        "            for i in range(r, l - 1, -1):\n",
        "                result.append(matrix[d][i])\n",
        "            d -= 1  # Move up one row after traversing the lower row\n",
        "\n",
        "        # Traverse the leftmost column from bottom to top\n",
        "        # Make sure it's not the same column as the rightmost column\n",
        "        if l <= r:\n",
        "            for i in range(d, u - 1, -1):\n",
        "                result.append(matrix[i][l])\n",
        "            l += 1  # Move right one column after traversing the leftmost column\n",
        "\n",
        "    return result\n",
        "\n",
        "# Example usage:\n",
        "print(func(matrix=[[1, 2, 3], [4, 5, 6], [7, 8, 9]]))  # Output: [1, 2, 3, 6, 9, 8, 7, 4, 5]\n",
        "print(func(matrix=[[1, 2, 3, 4], [14, 15, 16, 5], [13, 20, 17, 6], [12, 19, 18, 7], [11, 10, 9, 8]]))\n",
        "# Output: [1, 2, 3, 4, 5, 6, 7, 8, 9, 10, 11, 12, 13, 14, 15, 16, 17, 18, 19, 20]\n",
        "\n"
      ],
      "metadata": {
        "colab": {
          "base_uri": "https://localhost:8080/"
        },
        "id": "LOpA4Z7novEN",
        "outputId": "1e5c6f8c-c9ca-464e-ae39-fe26e901c8a0"
      },
      "execution_count": 6,
      "outputs": [
        {
          "output_type": "stream",
          "name": "stdout",
          "text": [
            "[1, 2, 3, 6, 9, 8, 7, 4, 5]\n",
            "[1, 2, 3, 4, 5, 6, 7, 8, 9, 10, 11, 12, 13, 14, 15, 16, 17, 18, 19, 20]\n"
          ]
        }
      ]
    },
    {
      "cell_type": "markdown",
      "source": [
        "<aside>\n",
        "💡 **Question 2**\n",
        "\n",
        "**Given a square matrix mat, return the sum of the matrix diagonals.**\n",
        "\n",
        "**Only include the sum of all the elements on the primary diagonal and all the elements on the secondary diagonal that are not part of the primary diagonal.**\n",
        "\n",
        "**Example 1:**\n",
        "\n",
        "\n",
        "\n",
        "**Input: mat = [[1,2,3],**\n",
        "\n",
        "**[4,5,6],**\n",
        "\n",
        "**[7,8,9]]**\n",
        "\n",
        "**Output: 25**\n",
        "\n",
        "**Explanation: Diagonals sum: 1 + 5 + 9 + 3 + 7 = 25**\n",
        "\n",
        "**Notice that element mat[1][1] = 5 is counted only once.**\n",
        "\n",
        "**Solution:**\n",
        "\n",
        "**TC: O(m+n)**\n",
        "\n",
        "**SC: O(1)**\n",
        "\n",
        "</aside>"
      ],
      "metadata": {
        "id": "X_7TzIufK5wo"
      }
    },
    {
      "cell_type": "code",
      "source": [
        "from typing import List\n",
        "\n",
        "def func(mat: List[List[int]]) -> int:\n",
        "    \"\"\"\n",
        "    Calculate the sum of elements in the main diagonal and anti-diagonal of a square matrix.\n",
        "    \"\"\"\n",
        "    sum = 0  # Initialize sum variable\n",
        "    # Iterate over the main diagonal\n",
        "    for i, j in zip(range(len(mat)), range(len(mat))):\n",
        "        sum += mat[i][j]\n",
        "\n",
        "    # Iterate over the anti-diagonal excluding the central element if the matrix has an odd size\n",
        "    for i, j in zip(range(len(mat)), range(len(mat)-1, -1, -1)):\n",
        "        if i != j:  # Exclude the central element (if any)\n",
        "            sum += mat[i][j]\n",
        "\n",
        "    return sum\n",
        "\n",
        "# Test the function\n",
        "print(func(mat=[[1,2,3],[4,5,6],[7,8,9]]))"
      ],
      "metadata": {
        "colab": {
          "base_uri": "https://localhost:8080/"
        },
        "id": "xg2TB6bSP-8i",
        "outputId": "de38b78e-f4a0-4ae8-a93c-9dc7d061703e"
      },
      "execution_count": 13,
      "outputs": [
        {
          "output_type": "stream",
          "name": "stdout",
          "text": [
            "25\n"
          ]
        }
      ]
    },
    {
      "cell_type": "markdown",
      "source": [
        "\n",
        "💡 **Question 3**\n",
        "\n",
        "**Given a m x n matrix grid which is sorted in non-increasing order both row-wise and column-wise, return *the number of negative numbers in* grid.**\n",
        "\n",
        "**Example 1:**\n",
        "\n",
        "**Input: grid = [[4,3,2,-1],[3,2,1,-1],[1,1,-1,-2],[-1,-1,-2,-3]]**\n",
        "\n",
        "**Output: 8**\n",
        "\n",
        "**Explanation: There are 8 negatives number in the matrix.**\n",
        "\n",
        "**TC: O(m*n)**\n",
        "\n",
        "**SC : O(1)**\n",
        "\n",
        "</aside>\n",
        "\n"
      ],
      "metadata": {
        "id": "6R8ZaXaUQewl"
      }
    },
    {
      "cell_type": "code",
      "source": [
        "from typing import List\n",
        "\n",
        "def func(mat: List[List[int]]) -> int:\n",
        "    \"\"\"\n",
        "    Count the number of negative numbers in a sorted matrix.\n",
        "    \"\"\"\n",
        "    count = 0  # Initialize count of negative numbers\n",
        "    for row in mat:\n",
        "        l = 0  # Initialize left pointer\n",
        "        r = len(row) - 1  # Initialize right pointer\n",
        "\n",
        "        while l <= r:\n",
        "            m = (l + r) // 2  # Calculate mid index\n",
        "\n",
        "            if row[m] > 0:  # If element at mid is positive\n",
        "                l = m + 1  # Move left pointer to right of mid\n",
        "            elif row[m] < 0:  # If element at mid is negative\n",
        "                p = m  # Store the position of the first negative element\n",
        "                r = m - 1  # Move right pointer to left of mid\n",
        "\n",
        "        count += len(mat[p:])  # Count negative numbers in the remaining rows\n",
        "\n",
        "    return count\n",
        "\n",
        "# Test the function\n",
        "print(func(mat=[[4,3,2,-1],[3,2,1,-1],[1,1,-1,-2],[-1,-1,-2,-3]]))  # Output: 8\n"
      ],
      "metadata": {
        "colab": {
          "base_uri": "https://localhost:8080/"
        },
        "id": "6HCu_PjoQeJu",
        "outputId": "cdc10190-94ed-4a63-bfe4-583a2cc647f1"
      },
      "execution_count": 21,
      "outputs": [
        {
          "output_type": "stream",
          "name": "stdout",
          "text": [
            "8\n"
          ]
        }
      ]
    },
    {
      "cell_type": "markdown",
      "source": [
        "\n",
        "💡 Question 4\n",
        "\n",
        "**You are given an m x n integer grid accounts where accounts[i][j] is the amount of money the ith customer has in the jth bank. Return *the wealth that the richest customer has.***\n",
        "\n",
        "**A customer's wealth is the amount of money they have in all their bank accounts. The richest customer is the customer that has the maximum wealth.**\n",
        "\n",
        "**Example 1:**\n",
        "\n",
        "**Input: accounts = [[1,2,3],[3,2,1]]**\n",
        "\n",
        "**Output: 6**\n",
        "\n",
        "**Explanation:**\n",
        "\n",
        "**1st customer has wealth = 1 + 2 + 3 = 6**\n",
        "\n",
        "**2nd customer has wealth = 3 + 2 + 1 = 6**\n",
        "\n",
        "**Both customers are considered the richest with a wealth of 6 each, so return 6.**\n",
        "\n",
        "**Solution:**\n",
        "\n",
        "**TC: O(m*n)**\n",
        "\n",
        "**SC : O(1**\n",
        "\n",
        "</aside>"
      ],
      "metadata": {
        "id": "nC7VNdxy4d6U"
      }
    },
    {
      "cell_type": "code",
      "source": [
        "def maximumWealth(self, accounts):\n",
        "\n",
        "  for account in accounts:\n",
        "    currCustomerWealth = sum(account)\n",
        "    maxWealthSoFar = max(maxWealthSoFar, currCustomerWealth)\n",
        "\n",
        "  return maxWealthSoFar"
      ],
      "metadata": {
        "id": "7e7lajFO4bt9"
      },
      "execution_count": 1,
      "outputs": []
    }
  ]
}