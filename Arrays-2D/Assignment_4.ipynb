{
  "nbformat": 4,
  "nbformat_minor": 0,
  "metadata": {
    "colab": {
      "provenance": [],
      "authorship_tag": "ABX9TyPL51jKqrZwQjg/KRFUENbI",
      "include_colab_link": true
    },
    "kernelspec": {
      "name": "python3",
      "display_name": "Python 3"
    },
    "language_info": {
      "name": "python"
    }
  },
  "cells": [
    {
      "cell_type": "markdown",
      "metadata": {
        "id": "view-in-github",
        "colab_type": "text"
      },
      "source": [
        "<a href=\"https://colab.research.google.com/github/azmd801/DSA_practice/blob/main/Arrays-2D/Assignment_4.ipynb\" target=\"_parent\"><img src=\"https://colab.research.google.com/assets/colab-badge.svg\" alt=\"Open In Colab\"/></a>"
      ]
    },
    {
      "cell_type": "markdown",
      "source": [
        "\n",
        "💡 **Question 1**  \n",
        "Given three integer arrays arr1, arr2 and arr3 **sorted** in **strictly increasing** order, return a sorted array of **only** the integers that appeared in **all** three arrays.\n",
        "\n",
        "**Example 1:**\n",
        "\n",
        "Input: arr1 = [1,2,3,4,5], arr2 = [1,2,5,7,9], arr3 = [1,3,4,5,8]\n",
        "\n",
        "Output: [1,5]\n",
        "\n",
        "**Explanation:** Only 1 and 5 appeared in the three arrays\n",
        "\n",
        "</aside>"
      ],
      "metadata": {
        "id": "aZFzBL-E8VTQ"
      }
    },
    {
      "cell_type": "code",
      "source": [
        "def func(arr1,arr2,arr3):\n",
        "\n",
        "  def _is_in(arr,num):\n",
        "    l = 0\n",
        "    r = len(arr)-1\n",
        "    while l <= r:\n",
        "\n",
        "      m = (l + r)//2\n",
        "      if arr[m] < num:\n",
        "        l = m + 1\n",
        "      elif arr[m] > num:\n",
        "        r = m - 1\n",
        "      else:\n",
        "        return True\n",
        "\n",
        "  output = []\n",
        "  for i in arr1:\n",
        "    if _is_in(arr2,i) and _is_in(arr3,i):\n",
        "      output.append(i)\n",
        "\n",
        "  return output\n",
        "\n",
        "print(func(arr1 = [1,2,3,4,5], arr2 = [1,2,5,7,9], arr3 = [1,3,4,5,8]))"
      ],
      "metadata": {
        "colab": {
          "base_uri": "https://localhost:8080/"
        },
        "id": "Jy9JRLpF8Yti",
        "outputId": "4f9df157-bb36-4b30-a3d2-c11ec53ec2e7"
      },
      "execution_count": 13,
      "outputs": [
        {
          "output_type": "stream",
          "name": "stdout",
          "text": [
            "[1, 5]\n"
          ]
        }
      ]
    },
    {
      "cell_type": "code",
      "source": [
        "from typing import List\n",
        "\n",
        "def func(arr1: List[int], arr2: List[int], arr3: List[int]) -> List[int]:\n",
        "    \"\"\"\n",
        "    Find the common elements in three sorted integer arrays.\n",
        "    \"\"\"\n",
        "    p1, p2, p3 = 0, 0, 0  # Initialize pointers for each array\n",
        "    result = []  # Initialize the result list to store common elements\n",
        "\n",
        "    # Iterate through the arrays while all pointers are within their respective array bounds\n",
        "    while p1 < len(arr1) and p2 < len(arr2) and p3 < len(arr3):\n",
        "        # If all three elements are equal, it's a common element. Append it to the result list.\n",
        "        if arr1[p1] == arr2[p2] == arr3[p3]:\n",
        "            result.append(arr1[p1])\n",
        "            p1 += 1\n",
        "            p2 += 1\n",
        "            p3 += 1\n",
        "        # Otherwise, increment the pointer corresponding to the smallest element among the three\n",
        "        elif arr1[p1] < arr2[p2]:\n",
        "            p1 += 1\n",
        "        elif arr2[p2] < arr3[p3]:\n",
        "            p2 += 1\n",
        "        else:\n",
        "            p3 += 1\n",
        "\n",
        "    return result\n",
        "\n",
        "# Test the function\n",
        "print(func(arr1=[1, 2, 3, 4, 5], arr2=[1, 2, 5, 7, 9], arr3=[1, 3, 4, 5, 8]))\n"
      ],
      "metadata": {
        "colab": {
          "base_uri": "https://localhost:8080/"
        },
        "id": "IWt3Sc30ENs2",
        "outputId": "efdc8681-70aa-47cb-97e1-7ce6692462d7"
      },
      "execution_count": 12,
      "outputs": [
        {
          "output_type": "stream",
          "name": "stdout",
          "text": [
            "[1, 5]\n"
          ]
        }
      ]
    },
    {
      "cell_type": "markdown",
      "source": [
        "\n",
        "💡 **Question 2**\n",
        "\n",
        "Given two **0-indexed** integer arrays nums1 and nums2, return *a list* answer *of size* 2 *where:*\n",
        "\n",
        "- answer[0] *is a list of all **distinct** integers in* nums1 *which are **not** present in* nums2*.*\n",
        "- answer[1] *is a list of all **distinct** integers in* nums2 *which are **not** present in* nums1.\n",
        "\n",
        "**Note** that the integers in the lists may be returned in **any** order.\n",
        "\n",
        "**Example 1:**\n",
        "\n",
        "**Input:** nums1 = [1,2,3], nums2 = [2,4,6]\n",
        "\n",
        "**Output:** [[1,3],[4,6]]\n",
        "\n",
        "**Explanation:**\n",
        "\n",
        "For nums1, nums1[1] = 2 is present at index 0 of nums2, whereas nums1[0] = 1 and nums1[2] = 3 are not present in nums2. Therefore, answer[0] = [1,3].\n",
        "\n",
        "For nums2, nums2[0] = 2 is present at index 1 of nums1, whereas nums2[1] = 4 and nums2[2] = 6 are not present in nums2. Therefore, answer[1] = [4,6].\n",
        "\n",
        "</aside>"
      ],
      "metadata": {
        "id": "vk8RskHjK9P2"
      }
    },
    {
      "cell_type": "code",
      "source": [
        "def func(nums1,nums2):\n",
        "  return [list(set(nums1) - set(nums2)),list(set(nums2) - set(nums1))]\n",
        "\n",
        "print(func(nums1 = [1,2,3], nums2 = [2,4,6]))"
      ],
      "metadata": {
        "colab": {
          "base_uri": "https://localhost:8080/"
        },
        "id": "vpbYS0gILdAl",
        "outputId": "0b90a069-4a4b-4165-decf-a5b4804a32d1"
      },
      "execution_count": 16,
      "outputs": [
        {
          "output_type": "stream",
          "name": "stdout",
          "text": [
            "[[1, 3], [4, 6]]\n"
          ]
        }
      ]
    },
    {
      "cell_type": "markdown",
      "source": [
        "\n",
        "💡 **Question 3**\n",
        "Given a 2D integer array matrix, return *the **transpose** of* matrix.\n",
        "\n",
        "The **transpose** of a matrix is the matrix flipped over its main diagonal, switching the matrix's row and column indices.\n",
        "\n",
        "**Example 1:**\n",
        "\n",
        "Input: matrix = [[1,2,3],[4,5,6],[7,8,9]]\n",
        "\n",
        "Output: [[1,4,7],[2,5,8],[3,6,9]]\n",
        "\n",
        "</aside>"
      ],
      "metadata": {
        "id": "exGaRrvMMOwU"
      }
    },
    {
      "cell_type": "code",
      "source": [
        "from typing import List\n",
        "\n",
        "def func(matrix: List[List[int]]) -> List[List[int]]:\n",
        "    \"\"\"\n",
        "    Transpose the given matrix.\n",
        "    \"\"\"\n",
        "    out = []\n",
        "    for i in range(len(matrix[0])):\n",
        "        row = []\n",
        "        for j in range(len(matrix)):\n",
        "            row.append(matrix[j][i])\n",
        "        out.append(row)\n",
        "\n",
        "    return out\n",
        "\n",
        "# Test the function\n",
        "print(func(matrix=[[1,2,3],[4,5,6],[7,8,9]]))"
      ],
      "metadata": {
        "colab": {
          "base_uri": "https://localhost:8080/"
        },
        "id": "5DAddrxaMORa",
        "outputId": "b428cb67-c388-4922-be95-d8db76af7d3d"
      },
      "execution_count": 18,
      "outputs": [
        {
          "output_type": "stream",
          "name": "stdout",
          "text": [
            "[[1, 4, 7], [2, 5, 8], [3, 6, 9]]\n"
          ]
        }
      ]
    },
    {
      "cell_type": "markdown",
      "source": [
        "\n",
        "💡 **Question 4**  \n",
        "Given an integer array nums of 2n integers, group these integers into n pairs (a1, b1), (a2, b2), ..., (an, bn) such that the sum of min(ai, bi) for all i is **maximized**. Return *the maximized sum*.\n",
        "\n",
        "**Example 1:**\n",
        "\n",
        "Input: nums = [1,4,3,2]\n",
        "\n",
        "Output: 4\n",
        "\n",
        "**Explanation:** All possible pairings (ignoring the ordering of elements) are:\n",
        "\n",
        "1. (1, 4), (2, 3) -> min(1, 4) + min(2, 3) = 1 + 2 = 3\n",
        "\n",
        "2. (1, 3), (2, 4) -> min(1, 3) + min(2, 4) = 1 + 2 = 3\n",
        "\n",
        "3. (1, 2), (3, 4) -> min(1, 2) + min(3, 4) = 1 + 3 = 4\n",
        "\n",
        "So the maximum possible sum is 4.\n",
        "\n",
        "</aside>"
      ],
      "metadata": {
        "id": "40C2ptI9OyCs"
      }
    },
    {
      "cell_type": "code",
      "source": [
        "from typing import List\n",
        "\n",
        "def func(nums: List[int]) -> int:\n",
        "    \"\"\"\n",
        "    Given an integer array nums of 2n integers, group these integers into n pairs (a1, b1), (a2, b2), ..., (an, bn)\n",
        "    such that the sum of min(ai, bi) for all i is maximized. Return the maximized sum.\n",
        "    \"\"\"\n",
        "    nums = sorted(nums)\n",
        "    sums = 0\n",
        "    for i in range(len(nums)-2, -1, -2):\n",
        "        sums += nums[i]\n",
        "    return sums\n",
        "\n",
        "# Test the function\n",
        "print(func(nums=[1, 4, 3, 2]))"
      ],
      "metadata": {
        "colab": {
          "base_uri": "https://localhost:8080/"
        },
        "id": "gaoeDrL9O1Pt",
        "outputId": "30f19c2b-a5ed-4d8b-cb34-15d9bfeee21b"
      },
      "execution_count": 30,
      "outputs": [
        {
          "output_type": "stream",
          "name": "stdout",
          "text": [
            "4\n"
          ]
        }
      ]
    },
    {
      "cell_type": "markdown",
      "source": [
        "<aside>\n",
        "💡 **Question 5**\n",
        "You have n coins and you want to build a staircase with these coins. The staircase consists of k rows where the ith row has exactly i coins. The last row of the staircase **may be** incomplete.\n",
        "\n",
        "Given the integer n, return *the number of **complete rows** of the staircase you will build*.\n",
        "\n",
        "**Example 1:**\n",
        "\n",
        "[]()\n",
        "\n",
        "![v2.jpg](https://s3-us-west-2.amazonaws.com/secure.notion-static.com/4bd91cfa-d2b1-47b3-8197-a72e8dcfff4b/v2.jpg)\n",
        "\n",
        "**Input:** n = 5\n",
        "\n",
        "**Output:** 2\n",
        "\n",
        "**Explanation:** Because the 3rd row is incomplete, we return 2.\n",
        "\n",
        "</aside>"
      ],
      "metadata": {
        "id": "ASg534W-WO2i"
      }
    },
    {
      "cell_type": "code",
      "source": [
        "def func(n: int) -> int:\n",
        "    \"\"\"\n",
        "    Given the integer n representing the number of coins, returns the number of complete rows of the staircase\n",
        "    that can be built with these coins.: The number of complete rows of the staircase.\n",
        "    \"\"\"\n",
        "    i = 0\n",
        "    while i < n:\n",
        "        i += 1\n",
        "        n -= i\n",
        "    return i\n",
        "\n",
        "# Test the function\n",
        "print(func(5))\n"
      ],
      "metadata": {
        "colab": {
          "base_uri": "https://localhost:8080/"
        },
        "id": "9_rUhp5gUhNv",
        "outputId": "260d8663-b4a1-4d4b-90a4-d74b1de3f476"
      },
      "execution_count": 36,
      "outputs": [
        {
          "output_type": "stream",
          "name": "stdout",
          "text": [
            "2\n"
          ]
        }
      ]
    },
    {
      "cell_type": "markdown",
      "source": [
        " **Question 6**\n",
        "Given an integer array nums sorted in **non-decreasing** order, return *an array of **the squares of each number** sorted in non-decreasing order*.\n",
        "\n",
        "**Example 1:**\n",
        "\n",
        "Input: nums = [-4,-1,0,3,10]\n",
        "\n",
        "Output: [0,1,9,16,100]\n",
        "\n",
        "**Explanation:** After squaring, the array becomes [16,1,0,9,100].\n",
        "After sorting, it becomes [0,1,9,16,100]\n",
        "\n",
        "</aside>"
      ],
      "metadata": {
        "id": "aJfUIz5_dTjQ"
      }
    },
    {
      "cell_type": "code",
      "source": [
        "from typing import List\n",
        "\n",
        "def func(nums: List[int]) -> List[int]:\n",
        "    \"\"\"\n",
        "    Squares the elements of the given array in non-decreasing order without explicitly sorting the squared values.\n",
        "    \"\"\"\n",
        "    l = 0\n",
        "    r = len(nums) - 1\n",
        "\n",
        "    while l <= r:\n",
        "        if nums[l] ** 2 > nums[r] ** 2:\n",
        "            # Swap elements using list slicing\n",
        "            nums[l:r+1] = nums[l+1:r+1] + [nums[l]]\n",
        "            r -= 1\n",
        "        else:\n",
        "            r -= 1\n",
        "\n",
        "    return [i ** 2 for i in nums]\n",
        "\n",
        "# Test the function\n",
        "print(func([-4, -1, 0, 3, 10]))"
      ],
      "metadata": {
        "colab": {
          "base_uri": "https://localhost:8080/"
        },
        "id": "aQIRFnMoauLG",
        "outputId": "8c6ee566-fb1d-4da5-b44a-740c3a3cc00c"
      },
      "execution_count": 49,
      "outputs": [
        {
          "output_type": "stream",
          "name": "stdout",
          "text": [
            "[0, 1, 9, 16, 100]\n"
          ]
        }
      ]
    },
    {
      "cell_type": "markdown",
      "source": [
        "\n",
        "💡 **Question 7**  \n",
        "You are given an m x n matrix M initialized with all 0's and an array of operations ops, where ops[i] = [ai, bi] means M[x][y] should be incremented by one for all 0 <= x < ai and 0 <= y < bi.\n",
        "\n",
        "Count and return *the number of maximum integers in the matrix after performing all the operations*\n",
        "\n",
        "**Example 1:**\n",
        "\n",
        "![q4.jpg](https://s3-us-west-2.amazonaws.com/secure.notion-static.com/4d0890d0-7bc7-4f59-be8e-352d9f3c1c52/q4.jpg)\n",
        "\n",
        "**Input:** m = 3, n = 3, ops = [[2,2],[3,3]]\n",
        "\n",
        "**Output:** 4\n",
        "\n",
        "**Explanation:** The maximum integer in M is 2, and there are four of it in M. So return 4.\n",
        "\n",
        "</aside>"
      ],
      "metadata": {
        "id": "n5VucMx3obnT"
      }
    },
    {
      "cell_type": "code",
      "source": [
        "def func(m: int, n: int, ops: List[List[int]]) -> int:\n",
        "    \"\"\"\n",
        "    Compute the maximum number of integers in the resulting matrix after performing all the operations.\n",
        "    \"\"\"\n",
        "    min_l = m\n",
        "    min_w = n\n",
        "\n",
        "    for op in ops:\n",
        "        min_l = min(op[0], min_l)\n",
        "        min_w = min(op[1], min_w)\n",
        "\n",
        "    return min_l * min_w\n",
        "\n",
        "# Test the function\n",
        "print(func(m=3, n=3, ops=[[2, 2], [3, 3]]))\n"
      ],
      "metadata": {
        "colab": {
          "base_uri": "https://localhost:8080/"
        },
        "id": "L3D42Ujbkb8i",
        "outputId": "5a5ef0c7-2ffb-49c0-f59a-ae49fc44d656"
      },
      "execution_count": 55,
      "outputs": [
        {
          "output_type": "stream",
          "name": "stdout",
          "text": [
            "4\n"
          ]
        }
      ]
    },
    {
      "cell_type": "markdown",
      "source": [
        "\n",
        "💡 **Question 8**\n",
        "\n",
        "Given the array nums consisting of 2n elements in the form [x1,x2,...,xn,y1,y2,...,yn].\n",
        "\n",
        "*Return the array in the form* [x1,y1,x2,y2,...,xn,yn].\n",
        "\n",
        "**Example 1:**\n",
        "\n",
        "**Input:** nums = [2,5,1,3,4,7], n = 3\n",
        "\n",
        "**Output:** [2,3,5,4,1,7]\n",
        "\n",
        "**Explanation:** Since x1=2, x2=5, x3=1, y1=3, y2=4, y3=7 then the answer is [2,3,5,4,1,7].\n",
        "\n",
        "</aside>"
      ],
      "metadata": {
        "id": "0gWsw1kouDqi"
      }
    },
    {
      "cell_type": "code",
      "source": [
        "def func(nums):\n",
        "  n = len(nums)\n",
        "  result = []\n",
        "  for i in range(n//2):\n",
        "    result.extend([nums[i],nums[n//2+ i]])\n",
        "\n",
        "  return result\n",
        "\n",
        "print(func(nums=[2,5,1,3,4,7]))"
      ],
      "metadata": {
        "colab": {
          "base_uri": "https://localhost:8080/"
        },
        "id": "TByxCwWOpIDL",
        "outputId": "92d7e3d0-97e1-45cc-baec-0307836438b2"
      },
      "execution_count": 56,
      "outputs": [
        {
          "output_type": "stream",
          "name": "stdout",
          "text": [
            "[2, 3, 5, 4, 1, 7]\n"
          ]
        }
      ]
    }
  ]
}