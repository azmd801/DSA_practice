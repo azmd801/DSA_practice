{
  "nbformat": 4,
  "nbformat_minor": 0,
  "metadata": {
    "colab": {
      "provenance": [],
      "authorship_tag": "ABX9TyMYsaLzKr+zQ9ch1Pk1hfsc",
      "include_colab_link": true
    },
    "kernelspec": {
      "name": "python3",
      "display_name": "Python 3"
    },
    "language_info": {
      "name": "python"
    }
  },
  "cells": [
    {
      "cell_type": "markdown",
      "metadata": {
        "id": "view-in-github",
        "colab_type": "text"
      },
      "source": [
        "<a href=\"https://colab.research.google.com/github/azmd801/DSA_practice/blob/main/Arrays/arrays_assignment_1.ipynb\" target=\"_parent\"><img src=\"https://colab.research.google.com/assets/colab-badge.svg\" alt=\"Open In Colab\"/></a>"
      ]
    },
    {
      "cell_type": "markdown",
      "source": [
        "\n",
        "💡 **Q1.** Given an array of integers nums and an integer target, return indices of the two numbers such that they add up to target.\n",
        "\n",
        "You may assume that each input would have exactly one solution, and you may not use the same element twice.\n",
        "\n",
        "You can return the answer in any order.\n",
        "\n",
        "**Example:**\n",
        "Input: nums = [2,7,11,15], target = 9\n",
        "Output0 [0,1]\n",
        "\n",
        "**Explanation:** Because nums[0] + nums[1] == 9, we return [0, 1][\n",
        "\n",
        "</aside>"
      ],
      "metadata": {
        "id": "nZUnQ-2KHnLQ"
      }
    },
    {
      "cell_type": "code",
      "source": [
        "from typing import List\n",
        "\n",
        "def func(list_of_int: List[int], target: int) -> List[int]:\n",
        "    \"\"\"\n",
        "    Find indices of two elements in the list such that their sum equals the target.\n",
        "\n",
        "    \"\"\"\n",
        "    # Initialize two pointers, l and r, at the beginning and end of the list\n",
        "    l = 0\n",
        "    r = len(list_of_int) - 1\n",
        "\n",
        "    # Iterate until the two pointers meet or cross\n",
        "    while r > l:\n",
        "        # Check if the sum of elements at l and r is less than the target\n",
        "        if list_of_int[l] + list_of_int[r] < target:\n",
        "            l += 1\n",
        "        # Check if the sum of elements at l and r is greater than the target\n",
        "        elif list_of_int[l] + list_of_int[r] > target:\n",
        "            r -= 1\n",
        "        else:\n",
        "            # If the sum is equal to the target, return the indices\n",
        "            return (l, r)\n",
        "\n",
        "        # Skip duplicate elements from the left\n",
        "        if list_of_int[l] == list_of_int[l - 1]:\n",
        "            l += 1\n",
        "\n",
        "    # Return None if no such indices are found\n",
        "    return None\n",
        "\n",
        "# Example usage\n",
        "print(func(list_of_int=[2, 4, 4, 6, 2], target=8))"
      ],
      "metadata": {
        "colab": {
          "base_uri": "https://localhost:8080/"
        },
        "id": "eIPiD99TRSHR",
        "outputId": "cafb95bf-6690-416c-fb33-215e0942ced4"
      },
      "execution_count": null,
      "outputs": [
        {
          "output_type": "stream",
          "name": "stdout",
          "text": [
            "(3, 4)\n"
          ]
        }
      ]
    },
    {
      "cell_type": "markdown",
      "source": [
        "\n",
        "💡 **Q2.** Given an integer array nums and an integer val, remove all occurrences of val in nums in-place. The order of the elements may be changed. Then return the number of elements in nums which are not equal to val.\n",
        "\n",
        "Consider the number of elements in nums which are not equal to val be k, to get accepted, you need to do the following things:\n",
        "\n",
        "- Change the array nums such that the first k elements of nums contain the elements which are not equal to val. The remaining elements of nums are not important as well as the size of nums.\n",
        "- Return k.\n",
        "\n",
        "**Example :**\n",
        "Input: nums = [3,2,2,3], val = 3\n",
        "Output: 2, nums = [2,2,_*,_*]\n",
        "\n",
        "**Explanation:** Your function should return k = 2, with the first two elements of nums being 2. It does not matter what you leave beyond the returned k (hence they are underscores)[\n",
        "\n"
      ],
      "metadata": {
        "id": "IIqHDmI-mDKt"
      }
    },
    {
      "cell_type": "code",
      "source": [
        "from keyword import kwlist\n",
        "from typing import List, Tuple, Union\n",
        "\n",
        "def modify_and_count(nums: List[int], val: int) -> Tuple[int, List[Union[int, str]]]:\n",
        "    \"\"\"\n",
        "    Modify the array 'nums' in-place by replacing occurrences of 'val' with underscores ('_').\n",
        "    Return the count of elements in the modified array that are not equal to 'val'.\n",
        "\n",
        "    \"\"\"\n",
        "    # Initialize a variable to keep track of the position where the next element not equal to 'val' should be placed\n",
        "    k: int = 0\n",
        "\n",
        "    # Iterate through the array 'nums'\n",
        "    for i in range(len(nums)):\n",
        "        # If the current element is equal to 'val', replace it with '_'\n",
        "        if nums[i] == val:\n",
        "            nums[i] = '_'\n",
        "        else:\n",
        "            # If the current element is not equal to 'val', move it to the position pointed by 'k'\n",
        "            # Update 'k' and replace the original position with '_'\n",
        "            nums[k] = nums[i]\n",
        "            nums[i] = '_'\n",
        "            k += 1\n",
        "\n",
        "    # Return the count of elements not equal to 'val' and the modified array\n",
        "    return k, nums\n",
        "\n",
        "# Example Usage:\n",
        "result1 = modify_and_count(nums=[3, 2, 2, 3], val=3)\n",
        "result2 = modify_and_count(nums=[3, 2, 3, 3, 4, 1, 3, 9, 1, 12, 2, 3], val=3)\n",
        "\n",
        "# Print the results\n",
        "print(result1)  # Output: (2, [2, 2, '_', '_'])\n",
        "print(result2)  # Output: (8, [2, 2, '_', '_', 4, 1, '_', 9, 1, 12, 2, '_'])\n"
      ],
      "metadata": {
        "colab": {
          "base_uri": "https://localhost:8080/"
        },
        "id": "XJY_g7IkmGva",
        "outputId": "a88fa2fb-5628-445b-94d0-c99e794243f6"
      },
      "execution_count": null,
      "outputs": [
        {
          "output_type": "stream",
          "name": "stdout",
          "text": [
            "(2, [2, 2, '_', '_'])\n",
            "(7, [2, 4, 1, 9, 1, 12, 2, '_', '_', '_', '_', '_'])\n"
          ]
        }
      ]
    },
    {
      "cell_type": "markdown",
      "source": [
        "\n",
        "💡 **Q3.** Given a sorted array of distinct integers and a target value, return the index if the target is found. If not, return the index where it would be if it were inserted in order.\n",
        "\n",
        "You must write an algorithm with O(log n) runtime complexity.\n",
        "\n",
        "**Example 1:**\n",
        "Input: nums = [1,3,5,6], target = 5\n",
        "\n",
        "Output: 2\n",
        "\n",
        "</aside>"
      ],
      "metadata": {
        "id": "ZSd9dQ4Uuv_g"
      }
    },
    {
      "cell_type": "code",
      "source": [
        "def func(nums,target):\n",
        "  l = 0\n",
        "  r = len(nums)-1\n",
        "\n",
        "  while l <= r:\n",
        "    m=(l+r)//2\n",
        "    if nums[m] > target:\n",
        "      r = m-1\n",
        "    elif nums[m] < target:\n",
        "      l = m+1\n",
        "    else:\n",
        "      return m\n",
        "  return l\n",
        "\n",
        "print(func(nums = [1,3,5,6], target = 7))\n",
        "\n"
      ],
      "metadata": {
        "colab": {
          "base_uri": "https://localhost:8080/"
        },
        "id": "MlocuM5gud2H",
        "outputId": "f89246df-f31a-4721-c888-8ca908f04455"
      },
      "execution_count": null,
      "outputs": [
        {
          "output_type": "stream",
          "name": "stdout",
          "text": [
            "4\n"
          ]
        }
      ]
    },
    {
      "cell_type": "markdown",
      "source": [
        "\n",
        "💡 **Q4.** You are given a large integer represented as an integer array digits, where each digits[i] is the ith digit of the integer. The digits are ordered from most significant to least significant in left-to-right order. The large integer does not contain any leading 0's.\n",
        "\n",
        "Increment the large integer by one and return the resulting array of digits.\n",
        "\n",
        "**Example 1:**\n",
        "Input: digits = [1,2,3]\n",
        "Output: [1,2,4]\n",
        "\n",
        "**Explanation:** The array represents the integer 123.\n",
        "\n",
        "Incrementing by one gives 123 + 1 = 124.\n",
        "Thus, the result should be [1,2,4].\n",
        "\n",
        "</aside>"
      ],
      "metadata": {
        "id": "S_1nOuPB8J0E"
      }
    },
    {
      "cell_type": "code",
      "source": [
        "from typing import List\n",
        "\n",
        "def increment_large_integer(digits: List[int]) -> List[int]:\n",
        "    \"\"\"\n",
        "    Increment a large integer represented as an array of digits by one.\n",
        "    \"\"\"\n",
        "\n",
        "    if digits[-1] != 9:\n",
        "        # If the rightmost digit is not 9, simply increment it by 1\n",
        "        digits[-1] += 1\n",
        "        return digits\n",
        "\n",
        "    for i in range(len(digits) - 1, -1, -1):\n",
        "        # Loop through digits from right to left\n",
        "\n",
        "        if digits[i] == 9:\n",
        "            # If the current digit is 9, set the remainder to 0 and carry to 1\n",
        "            rem: int = 0\n",
        "            carry: int = 1\n",
        "        else:\n",
        "            # If the current digit is not 9, add carry to the digit and set carry to 0\n",
        "            rem: int = digits[i] + carry\n",
        "            carry: int = 0\n",
        "\n",
        "        digits[i] = rem  # Set the current digit to the remainder\n",
        "\n",
        "        if i == 0 and carry != 0:\n",
        "            # If we reach the leftmost digit and there's still a carry, add a new digit at the beginning\n",
        "            return [carry] + digits\n",
        "\n",
        "    return digits\n",
        "\n",
        "# Example Usage:\n",
        "print(increment_large_integer(digits=[9, 9]))    # Output: [1, 0, 0]\n",
        "print(increment_large_integer(digits=[6, 9]))    # Output: [7, 0]\n",
        "print(increment_large_integer(digits=[9, 9, 9]))    # Output: [1, 0, 0, 0]\n",
        "print(increment_large_integer(digits=[1, 6, 5]))    # Output: [1, 6, 6]"
      ],
      "metadata": {
        "colab": {
          "base_uri": "https://localhost:8080/"
        },
        "id": "_ixTfmqG8L3q",
        "outputId": "f216a92d-b123-40c5-b15e-7a03abe807a3"
      },
      "execution_count": null,
      "outputs": [
        {
          "output_type": "stream",
          "name": "stdout",
          "text": [
            "[1, 0, 0]\n",
            "[7, 0]\n",
            "[1, 0, 0, 0]\n",
            "[1, 6, 6]\n"
          ]
        }
      ]
    },
    {
      "cell_type": "markdown",
      "source": [
        "\n",
        "💡 **Q5.** You are given two integer arrays nums1 and nums2, sorted in non-decreasing order, and two integers m and n, representing the number of elements in nums1 and nums2 respectively.\n",
        "\n",
        "Merge nums1 and nums2 into a single array sorted in non-decreasing order.\n",
        "\n",
        "The final sorted array should not be returned by the function, but instead be stored inside the array nums1. To accommodate this, nums1 has a length of m + n, where the first m elements denote the elements that should be merged, and the last n elements are set to 0 and should be ignored. nums2 has a length of n.\n",
        "\n",
        "**Example 1:**\n",
        "Input: nums1 = [1,2,3,0,0,0], m = 3, nums2 = [2,5,6], n = 3\n",
        "Output: [1,2,2,3,5,6]\n",
        "\n",
        "**Explanation:** The arrays we are merging are [1,2,3] and [2,5,6].\n",
        "The result of the merge is [1,2,2,3,5,6] with the underlined elements coming from nums1.\n",
        "\n",
        "</aside>"
      ],
      "metadata": {
        "id": "w235Chjs0BKF"
      }
    },
    {
      "cell_type": "code",
      "source": [
        "from typing_extensions import OrderedDict\n",
        "from typing import List\n",
        "\n",
        "def merge_sorted_arrays(nums1: List[int], m: int, nums2: List[int], n: int) -> List[int]:\n",
        "    \"\"\"\n",
        "    Merge two sorted arrays 'nums1' and 'nums2' in-place, where 'nums1' has enough space to hold all elements.\n",
        "    \"\"\"\n",
        "    # Pointers for the end of each array and the position in 'nums1' to insert the merged elements\n",
        "    p1: int = m - 1\n",
        "    p2: int = n - 1\n",
        "    i: int = m + n - 1\n",
        "\n",
        "    # Merge elements from the end of both arrays to the beginning of 'nums1'\n",
        "    while p1 >= 0 and p2 >= 0:\n",
        "        if nums1[p1] >= nums2[p2]:\n",
        "            nums1[i] = nums1[p1]\n",
        "            nums1[p1] = 0  # Clear the original position in 'nums1'\n",
        "            p1 -= 1\n",
        "        else:\n",
        "            nums1[i] = nums2[p2]\n",
        "            p2 -= 1\n",
        "        i -= 1\n",
        "\n",
        "    # If there are remaining elements in 'nums2', insert them at the beginning of 'nums1'\n",
        "    if p2 >= 0:\n",
        "        nums1[i::-1] = nums2[p2::-1]\n",
        "\n",
        "    return nums1\n",
        "\n",
        "# Example Usage:\n",
        "result = merge_sorted_arrays(nums1=[1, 2, 3, 0, 0, 0], m=3, nums2=[-1, 0, 8], n=3)\n",
        "print(result)  # Output: [-1, 0, 1, 2, 3, 8]\n"
      ],
      "metadata": {
        "colab": {
          "base_uri": "https://localhost:8080/"
        },
        "id": "us1OW6pb0COI",
        "outputId": "8285a1bb-bebf-4f51-9fad-b75883e99256"
      },
      "execution_count": null,
      "outputs": [
        {
          "output_type": "stream",
          "name": "stdout",
          "text": [
            "[-1, 0, 1, 2, 3, 8]\n"
          ]
        }
      ]
    },
    {
      "cell_type": "markdown",
      "source": [
        "\n",
        "💡 **Q6.** Given an integer array nums, return true if any value appears at least twice in the array, and return false if every element is distinct.\n",
        "\n",
        "**Example 1:**\n",
        "Input: nums = [1,2,3,1]\n",
        "\n",
        "Output: true\n",
        "\n",
        "</aside>"
      ],
      "metadata": {
        "id": "7apQHnEnKsu0"
      }
    },
    {
      "cell_type": "code",
      "source": [
        "from typing import List\n",
        "\n",
        "def func(nums: List[int]) -> bool:\n",
        "    \"\"\"\n",
        "    Check if any value appears at least twice in the array using a set.\n",
        "    \"\"\"\n",
        "    unique: set[int] = set()\n",
        "    for elem in nums:\n",
        "        if elem not in unique:\n",
        "            unique.add(elem)\n",
        "        else:\n",
        "            return True\n",
        "\n",
        "    return False\n",
        "\n",
        "# Example Usage:\n",
        "print(func(nums=[1, 2, 3, 4]))  # Output: False"
      ],
      "metadata": {
        "colab": {
          "base_uri": "https://localhost:8080/"
        },
        "id": "72E7pueWKuLn",
        "outputId": "170aa0b3-4d28-4e08-b359-3cb4c4d94cf5"
      },
      "execution_count": null,
      "outputs": [
        {
          "output_type": "stream",
          "name": "stdout",
          "text": [
            "False\n"
          ]
        }
      ]
    },
    {
      "cell_type": "code",
      "source": [
        "nums = [0,1,0,3,12]"
      ],
      "metadata": {
        "id": "fbnGtiF4oJWk"
      },
      "execution_count": null,
      "outputs": []
    },
    {
      "cell_type": "code",
      "source": [
        "nums[0:-1]=nums[1:]\n",
        "nums[4] = 0\n",
        "nums"
      ],
      "metadata": {
        "id": "IWofQ7RxoMaO",
        "outputId": "02b3bf3b-2bb3-4822-cc42-6d5346f24227",
        "colab": {
          "base_uri": "https://localhost:8080/"
        }
      },
      "execution_count": null,
      "outputs": [
        {
          "output_type": "execute_result",
          "data": {
            "text/plain": [
              "[1, 0, 3, 12, 0]"
            ]
          },
          "metadata": {},
          "execution_count": 12
        }
      ]
    },
    {
      "cell_type": "markdown",
      "source": [
        "\n",
        "💡 **Q7.** Given an integer array nums, move all 0's to the end of it while maintaining the relative order of the nonzero elements.\n",
        "\n",
        "Note that you must do this in-place without making a copy of the array.\n",
        "\n",
        "**Example 1:**\n",
        "Input: nums = [0,1,0,3,12]\n",
        "Output: [1,3,12,0,0]\n",
        "\n",
        "</aside>"
      ],
      "metadata": {
        "id": "YI0lBND6P9ZL"
      }
    },
    {
      "cell_type": "code",
      "source": [
        "def func(nums):\n",
        "  p1=0\n",
        "  p2 = len(nums) - 1\n",
        "\n",
        "  while p1 != p2:\n",
        "    if nums[p1] == 0:\n",
        "      nums[p1:-1] = nums[p1+1:]\n",
        "      nums[p2] = 0\n",
        "      p2 -= 1\n",
        "    else:\n",
        "      p1 += 1\n",
        "  return nums\n",
        "\n",
        "print(func(nums = [0,1,0,3,12] ))\n",
        "print(func(nums = [0,1,0,0,0,3,12] ))\n",
        "print(func(nums = [5,8,7,0,3,0,1,0,1,0,0,0,0,4,5,9,0,5,0,0,4,7,1,0] ))\n",
        "\n",
        "\n"
      ],
      "metadata": {
        "id": "12ypzPLNlIxR",
        "outputId": "8f7816ca-8da5-48b5-975c-d2a6b670f70d",
        "colab": {
          "base_uri": "https://localhost:8080/"
        }
      },
      "execution_count": null,
      "outputs": [
        {
          "output_type": "stream",
          "name": "stdout",
          "text": [
            "[1, 3, 12, 0, 0]\n",
            "[1, 3, 12, 0, 0, 0, 0]\n",
            "[5, 8, 7, 3, 1, 1, 4, 5, 9, 5, 4, 7, 1, 0, 0, 0, 0, 0, 0, 0, 0, 0, 0, 0]\n"
          ]
        }
      ]
    },
    {
      "cell_type": "markdown",
      "source": [
        "\n",
        "💡 **Q8.** You have a set of integers s, which originally contains all the numbers from 1 to n. Unfortunately, due to some error, one of the numbers in s got duplicated to another number in the set, which results in repetition of one number and loss of another number.\n",
        "\n",
        "You are given an integer array nums representing the data status of this set after the error.\n",
        "\n",
        "Find the number that occurs twice and the number that is missing and return them in the form of an array.\n",
        "\n",
        "**Example 1:**\n",
        "Input: nums = [1,2,2,4]\n",
        "Output: [2,3]\n",
        "\n",
        "</aside>"
      ],
      "metadata": {
        "id": "aybKlW-Vp_eo"
      }
    },
    {
      "cell_type": "code",
      "source": [
        "def func(nums):\n",
        "    # Iterate through the elements of the input array nums\n",
        "    for i in range(len(nums)):\n",
        "        # Check if the current element is not equal to its expected value at index i+1\n",
        "        if nums[i] != i + 1:\n",
        "            # Return a list containing the current element (duplicate) and the expected value at that index (missing)\n",
        "            return [nums[i], i + 1]\n",
        "\n",
        "# Test cases\n",
        "print(func(nums=[1, 2, 2, 4]))  # Output: [2, 3] (duplicate: 2, missing: 3)\n",
        "print(func(nums=[1, 3, 3, 4]))  # Output: [3, 2] (duplicate: 3, missing: 2)\n",
        "print(func(nums=[1, 4, 2, 4]))  # Output: [4, 3] (duplicate: 4, missing: 3)"
      ],
      "metadata": {
        "id": "ZWKoWFdGqBGa",
        "outputId": "412b6263-59d8-40b0-dffb-5c274ee35c52",
        "colab": {
          "base_uri": "https://localhost:8080/"
        }
      },
      "execution_count": null,
      "outputs": [
        {
          "output_type": "stream",
          "name": "stdout",
          "text": [
            "[2, 3]\n",
            "[3, 2]\n",
            "[4, 2]\n"
          ]
        }
      ]
    }
  ]
}