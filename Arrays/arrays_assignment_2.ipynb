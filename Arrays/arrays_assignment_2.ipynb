{
  "nbformat": 4,
  "nbformat_minor": 0,
  "metadata": {
    "colab": {
      "provenance": [],
      "authorship_tag": "ABX9TyNnOebbb2T3JiccIK8Lu32b",
      "include_colab_link": true
    },
    "kernelspec": {
      "name": "python3",
      "display_name": "Python 3"
    },
    "language_info": {
      "name": "python"
    }
  },
  "cells": [
    {
      "cell_type": "markdown",
      "metadata": {
        "id": "view-in-github",
        "colab_type": "text"
      },
      "source": [
        "<a href=\"https://colab.research.google.com/github/azmd801/DSA_practice/blob/main/Arrays/arrays_assignment_2.ipynb\" target=\"_parent\"><img src=\"https://colab.research.google.com/assets/colab-badge.svg\" alt=\"Open In Colab\"/></a>"
      ]
    },
    {
      "cell_type": "markdown",
      "source": [
        "\n",
        "💡 **Question 1**\n",
        "Given an integer array nums of 2n integers, group these integers into n pairs (a1, b1), (a2, b2),..., (an, bn) such that the sum of min(ai, bi) for all i is maximized. Return the maximized sum.\n",
        "\n",
        "**Example 1:**\n",
        "Input: nums = [1,4,3,2]\n",
        "Output: 4\n",
        "\n",
        "**Explanation:** All possible pairings (ignoring the ordering of elements) are:\n",
        "\n",
        "1. (1, 4), (2, 3) -> min(1, 4) + min(2, 3) = 1 + 2 = 3\n",
        "2. (1, 3), (2, 4) -> min(1, 3) + min(2, 4) = 1 + 2 = 3\n",
        "3. (1, 2), (3, 4) -> min(1, 2) + min(3, 4) = 1 + 3 = 4\n",
        "So the maximum possible sum is 4\n",
        "</aside>"
      ],
      "metadata": {
        "id": "BUVN2tvKPGWQ"
      }
    },
    {
      "cell_type": "code",
      "source": [
        "from typing import List\n",
        "\n",
        "def array_pair_sum(nums: List[int]) -> int:\n",
        "    \"\"\"\n",
        "    Compute the sum of minimum values of pairs in the array.\n",
        "\n",
        "    Pairs are formed by sorting the array and summing every alternate element.\n",
        "    \"\"\"\n",
        "    # Sort the array in ascending order\n",
        "    nums = sorted(nums)\n",
        "\n",
        "    # Sum the minimum of each pair by selecting every alternate element from the end\n",
        "    result = sum(nums[-2::-2])\n",
        "\n",
        "    return result\n",
        "\n",
        "# Example Usage:\n",
        "nums = [1, 4, 3, 2]\n",
        "print(array_pair_sum(nums))  # Output: 4"
      ],
      "metadata": {
        "colab": {
          "base_uri": "https://localhost:8080/"
        },
        "id": "rlqy_W-OPI47",
        "outputId": "985f034b-81c4-4bf7-aeb1-53243da1de79"
      },
      "execution_count": null,
      "outputs": [
        {
          "output_type": "stream",
          "name": "stdout",
          "text": [
            "4\n"
          ]
        }
      ]
    },
    {
      "cell_type": "markdown",
      "source": [
        "\n",
        "💡 **Question 2**\n",
        "Alice has n candies, where the ith candy is of type candyType[i]. Alice noticed that she started to gain weight, so she visited a doctor.\n",
        "\n",
        "The doctor advised Alice to only eat n / 2 of the candies she has (n is always even). Alice likes her candies very much, and she wants to eat the maximum number of different types of candies while still following the doctor's advice.\n",
        "\n",
        "Given the integer array candyType of length n, return the maximum number of different types of candies she can eat if she only eats n / 2 of them.\n",
        "\n",
        "**Example 1:**\n",
        "Input: candyType = [1,1,2,2,3,3]\n",
        "Output: 3\n",
        "\n",
        "**Explanation:** Alice can only eat 6 / 2 = 3 candies. Since there are only 3 types, she can eat one of each type."
      ],
      "metadata": {
        "id": "C18EmVfCSrKi"
      }
    },
    {
      "cell_type": "code",
      "source": [
        "from typing import List\n",
        "\n",
        "def max_types_of_candies(candyType: List[int]) -> int:\n",
        "    \"\"\"\n",
        "    Calculate the maximum number of different types of candies Alice can eat.\n",
        "\n",
        "    Parameters:\n",
        "    - candyType (List[int]): The input array of candy types.\n",
        "\n",
        "    Returns:\n",
        "    - int: The maximum number of different types of candies Alice can eat.\n",
        "    \"\"\"\n",
        "    n = len(candyType)\n",
        "\n",
        "    # Using a set to get unique candy types\n",
        "    unique_candy = set(candyType)\n",
        "\n",
        "    # Return the minimum of the count of unique candy types and n / 2 (to follow the doctor's advice)\n",
        "    return min(len(unique_candy), n // 2)\n",
        "\n",
        "# Example Usage:\n",
        "candyType = [1, 1, 2, 2, 3, 3]\n",
        "print(max_types_of_candies(candyType))  # Output: 3"
      ],
      "metadata": {
        "colab": {
          "base_uri": "https://localhost:8080/"
        },
        "id": "5ejBA4i2S_uM",
        "outputId": "e0d76a03-2ddb-453b-b24c-e1e677cc0598"
      },
      "execution_count": null,
      "outputs": [
        {
          "output_type": "stream",
          "name": "stdout",
          "text": [
            "3\n"
          ]
        }
      ]
    },
    {
      "cell_type": "markdown",
      "source": [
        "💡 **Question 3**    \n",
        "We define a harmonious array as an array where the difference between its maximum value\n",
        "and its minimum value is exactly 1.\n",
        "\n",
        "Given an integer array nums, return the length of its longest harmonious subsequence\n",
        "among all its possible subsequences.\n",
        "\n",
        "A subsequence of an array is a sequence that can be derived from the array by deleting some or no elements without changing the order of the remaining elements.\n",
        "\n",
        "***Example 1:**  \n",
        "Input: nums = [1,3,2,2,5,2,3,7]  \n",
        "Output: 5\n",
        "\n",
        "Explanation: The longest harmonious subsequence is [3,2,2,2,3]."
      ],
      "metadata": {
        "id": "QyZw0XR9Wcws"
      }
    },
    {
      "cell_type": "code",
      "source": [
        "from typing import List\n",
        "\n",
        "def find_longest_harmonious_subsequence(nums: List[int]) -> int:\n",
        "    \"\"\"\n",
        "    Find the length of the longest harmonious subsequence in the given array.\n",
        "    \"\"\"\n",
        "    count_dict = {}\n",
        "\n",
        "    # Count occurrences of each number in the array\n",
        "    for num in nums:\n",
        "        if num not in count_dict:\n",
        "            count_dict[num] = 1\n",
        "        else:\n",
        "            count_dict[num] += 1\n",
        "\n",
        "    max_length = -1\n",
        "\n",
        "    # Iterate through unique numbers in the array\n",
        "    for key in count_dict:\n",
        "        if key + 1 in count_dict:\n",
        "            # Calculate the length of the harmonious subsequence\n",
        "            length = count_dict[key] + count_dict[key + 1]\n",
        "            max_length = max(max_length, length)\n",
        "\n",
        "    if max_length == -1:\n",
        "        print(\"No harmonious subsequence found\")\n",
        "\n",
        "    return max_length\n",
        "\n",
        "# Example Usage:\n",
        "nums = [1, 3, 2, 2, 5, 2, 3, 7]\n",
        "print(find_longest_harmonious_subsequence(nums))"
      ],
      "metadata": {
        "colab": {
          "base_uri": "https://localhost:8080/"
        },
        "id": "HTL_pP94WDEb",
        "outputId": "cb19d670-16dc-4abf-e2c5-f0ec47b2ccc4"
      },
      "execution_count": null,
      "outputs": [
        {
          "output_type": "stream",
          "name": "stdout",
          "text": [
            "5\n"
          ]
        }
      ]
    },
    {
      "cell_type": "markdown",
      "source": [
        "Question 4  \n",
        "\n",
        "You have a long flowerbed in which some of the plots are planted, and some are not.\n",
        "However, flowers cannot be planted in adjacent plots.\n",
        "Given an integer array flowerbed containing 0's and 1's, where 0 means empty and 1 means not empty, and an integer n, return true if n new flowers can be planted in the flowerbed without violating the no-adjacent-flowers rule and false otherwise.\n",
        "\n",
        "Example 1:\n",
        "Input: flowerbed = [1,0,0,0,1], n = 1\n",
        "Output: true"
      ],
      "metadata": {
        "id": "iWAMKoNTeULr"
      }
    },
    {
      "cell_type": "code",
      "source": [
        "from typing import List\n",
        "\n",
        "def can_place_flowers(flowerbed: List[int], n: int) -> bool:\n",
        "  \"\"\"\n",
        "  Determines if it is possible to plant 'n' new flowers in the flowerbed without violating the no-adjacent-flowers rule.\n",
        "  \"\"\"\n",
        "  i = 0\n",
        "  allowed_pos_count = 0\n",
        "\n",
        "  # Iterate through the flowerbed\n",
        "  while i < len(flowerbed) - 1:\n",
        "      # If the current position already has a flower, skip the next position\n",
        "      if flowerbed[i] == 1:\n",
        "        i += 2\n",
        "      else:\n",
        "        # Check if the next position is empty\n",
        "        if flowerbed[i + 1] == 0:\n",
        "          allowed_pos_count += 1\n",
        "\n",
        "        i += 2\n",
        "\n",
        "  # Check if the number of allowed positions is greater than or equal to 'n'\n",
        "  return allowed_pos_count >= n\n",
        "\n",
        "# Example usage\n",
        "print(can_place_flowers(flowerbed = [1,0,0,0,1], n = 1 ))  # Output: True\n",
        "print(can_place_flowers(flowerbed = [1,0,0,0,0,1], n = 2 ))  # Output: False\n"
      ],
      "metadata": {
        "id": "lyjrNcc2d3QF",
        "outputId": "ceabfa03-0677-4b88-e416-a366a1b9b1fc",
        "colab": {
          "base_uri": "https://localhost:8080/"
        }
      },
      "execution_count": 8,
      "outputs": [
        {
          "output_type": "stream",
          "name": "stdout",
          "text": [
            "True\n",
            "False\n"
          ]
        }
      ]
    },
    {
      "cell_type": "markdown",
      "source": [
        "Question 5  \n",
        "Given an integer array nums, find three numbers whose product is maximum and return the maximum product.\n",
        "\n",
        "Example 1:\n",
        "Input: nums = [1,2,3]\n",
        "Output: 6"
      ],
      "metadata": {
        "id": "uoPapciCoToi"
      }
    },
    {
      "cell_type": "code",
      "source": [
        "def maximumProduct(nums):\n",
        "    # Sort the array in ascending order\n",
        "    nums.sort()\n",
        "\n",
        "    # Return the maximum of the product of the three maximum numbers\n",
        "    # or the product of two minimum numbers and the maximum number\n",
        "    return max(nums[-1] * nums[-2] * nums[-3], nums[0] * nums[1] * nums[2])\n",
        "\n",
        "# Example usage\n",
        "print(maximumProduct(nums = [1,2,3]))\n",
        "print(maximumProduct(nums = [1, 2, -3,-5,4]))\n"
      ],
      "metadata": {
        "id": "Y1ym7AY6og5W",
        "outputId": "34245ec7-afb8-464e-a7f8-07990a8073ea",
        "colab": {
          "base_uri": "https://localhost:8080/"
        }
      },
      "execution_count": null,
      "outputs": [
        {
          "output_type": "stream",
          "name": "stdout",
          "text": [
            "6\n",
            "15\n"
          ]
        }
      ]
    },
    {
      "cell_type": "markdown",
      "source": [
        "Question 6  \n",
        "Given an array of integers nums which is sorted in ascending order, and an integer target,\n",
        "write a function to search target in nums. If target exists, then return its index. Otherwise,\n",
        "return -1.\n",
        "\n",
        "You must write an algorithm with O(log n) runtime complexity.\n",
        "\n",
        "Input: nums = [-1,0,3,5,9,12], target = 9\n",
        "Output: 4\n",
        "\n",
        "Explanation: 9 exists in nums and its index is 4"
      ],
      "metadata": {
        "id": "WFTlq8AEtBL7"
      }
    },
    {
      "cell_type": "code",
      "source": [
        "7//2"
      ],
      "metadata": {
        "id": "MoVbv-jmv-Se",
        "outputId": "49a9d0fb-00a5-4c8d-d3dc-3a2a83bdab03",
        "colab": {
          "base_uri": "https://localhost:8080/"
        }
      },
      "execution_count": null,
      "outputs": [
        {
          "output_type": "execute_result",
          "data": {
            "text/plain": [
              "3"
            ]
          },
          "metadata": {},
          "execution_count": 33
        }
      ]
    },
    {
      "cell_type": "code",
      "source": [
        "from typing import List\n",
        "\n",
        "def binary_search(nums: List[int], target: int) -> int:\n",
        "    \"\"\"\n",
        "    Perform binary search on a sorted array to find the index of the target element.\n",
        "\n",
        "    \"\"\"\n",
        "\n",
        "    # Initialize left and right pointers\n",
        "    l = 0\n",
        "    r = len(nums) - 1\n",
        "\n",
        "    # Binary search loop\n",
        "    while l <= r:\n",
        "        # Calculate the middle index\n",
        "        m = (l + r) // 2\n",
        "\n",
        "        # Check if the target is less than the middle element\n",
        "        if target < nums[m]:\n",
        "            r = m - 1\n",
        "        # Check if the target is greater than the middle element\n",
        "        elif target > nums[m]:\n",
        "            l = m + 1\n",
        "        # Target is found\n",
        "        else:\n",
        "            return m\n",
        "\n",
        "    # Target not found in the array\n",
        "    return -1\n",
        "\n",
        "# Example usage\n",
        "result1 = binary_search(nums=[-1, 0, 3, 5, 9, 12], target=9)\n",
        "result2 = binary_search(nums=[-1, 0, 3, 5, 9, 12], target=7)\n",
        "\n",
        "print(result1)  # Output: 4 (index of 9 in the array)\n",
        "print(result2)  # Output: -1 (target 7 not found in the array)"
      ],
      "metadata": {
        "id": "jH_UwJYFtDWV",
        "outputId": "4efab0b6-7b54-4725-bb0c-cb7b597cd6d2",
        "colab": {
          "base_uri": "https://localhost:8080/"
        }
      },
      "execution_count": null,
      "outputs": [
        {
          "output_type": "stream",
          "name": "stdout",
          "text": [
            "4\n",
            "-1\n"
          ]
        }
      ]
    },
    {
      "cell_type": "markdown",
      "source": [
        "Question 7  \n",
        "An array is monotonic if it is either monotone increasing or monotone decreasing.\n",
        "\n",
        "An array nums is monotone increasing if for all i <= j, nums[i] <= nums[j]. An array nums is\n",
        "monotone decreasing if for all i <= j, nums[i] >= nums[j].\n",
        "\n",
        "Given an integer array nums, return true if the given array is monotonic, or false otherwise.\n",
        "\n",
        "Example 1:\n",
        "Input: nums = [1,2,2,3]\n",
        "Output: true"
      ],
      "metadata": {
        "id": "iy8KDMsS5ndY"
      }
    },
    {
      "cell_type": "code",
      "source": [
        "from typing import List\n",
        "\n",
        "def isMonotonic(nums: List[int]) -> bool:\n",
        "    \"\"\"\n",
        "    Check whether an array is monotonic (either monotone increasing or monotone decreasing).\n",
        "    \"\"\"\n",
        "    increasing = decreasing = True\n",
        "\n",
        "    # Iterate through the array to check monotonicity\n",
        "    for i in range(len(nums) - 1):\n",
        "        # Check if the next element is less than the current element\n",
        "        if nums[i + 1] < nums[i]:\n",
        "            increasing = False\n",
        "        # Check if the next element is greater than the current element\n",
        "        if nums[i + 1] > nums[i]:\n",
        "            decreasing = False\n",
        "\n",
        "    # If either increasing or decreasing is True, the array is monotonic\n",
        "    return increasing or decreasing\n",
        "\n",
        "# Example usage\n",
        "result1 = isMonotonic(nums=[1, 2, 2, 3])\n",
        "result2 = isMonotonic(nums=[1, 2, 1, 3])\n",
        "result3 = isMonotonic(nums=[4, 3, 3, 2, 2, 1])\n",
        "\n",
        "print(result1)  # Output: True\n",
        "print(result2)  # Output: False\n",
        "print(result3)  # Output: True\n"
      ],
      "metadata": {
        "id": "BNFo56lNx-jf",
        "outputId": "0bfcb403-0282-4735-9197-e58c12ab4adb",
        "colab": {
          "base_uri": "https://localhost:8080/"
        }
      },
      "execution_count": null,
      "outputs": [
        {
          "output_type": "stream",
          "name": "stdout",
          "text": [
            "True\n",
            "False\n",
            "True\n"
          ]
        }
      ]
    },
    {
      "cell_type": "markdown",
      "source": [
        "Question 8  \n",
        "You are given an integer array nums and an integer k.\n",
        "\n",
        "In one operation, you can choose any index i where 0 <= i < nums.length and change nums[i] to nums[i] + x where x is an integer from the range [-k, k]. You can apply this operation at most once for each index i.\n",
        "\n",
        "The score of nums is the difference between the maximum and minimum elements in nums.\n",
        "\n",
        "Return the minimum score of nums after applying the mentioned operation at most once for each index in it.\n",
        "\n",
        "Example 1:\n",
        "Input: nums = [1], k = 0\n",
        "Output: 0\n",
        "\n",
        "Explanation: The score is max(nums) - min(nums) = 1 - 1 = 0."
      ],
      "metadata": {
        "id": "85GFBiwS8dhE"
      }
    },
    {
      "cell_type": "code",
      "source": [
        "from typing import List\n",
        "\n",
        "def func(nums: List[int], k: int) -> int:\n",
        "    \"\"\"\n",
        "    Return the minimum score of nums after applying the mentioned operation.\n",
        "    \"\"\"\n",
        "    # Calculate the modified maximum and minimum values after the operation\n",
        "    modified_max = max(nums) - k\n",
        "    modified_min = min(nums) + k\n",
        "\n",
        "    # Calculate the difference between the modified maximum and minimum\n",
        "    result = max(modified_max - modified_min, 0)\n",
        "\n",
        "    return result\n",
        "\n",
        "# Example Usage:\n",
        "print(func(nums = [1], k = 0))\n",
        "print(func(nums = [0,10], k = 2))\n",
        "print(func(nums = [1,3,6], k = 3))"
      ],
      "metadata": {
        "id": "LCaWVSQwAlQI",
        "outputId": "b2d02010-5bc1-4701-84b8-a005c0c9ba37",
        "colab": {
          "base_uri": "https://localhost:8080/"
        }
      },
      "execution_count": 5,
      "outputs": [
        {
          "output_type": "stream",
          "name": "stdout",
          "text": [
            "0\n",
            "6\n",
            "0\n"
          ]
        }
      ]
    }
  ]
}