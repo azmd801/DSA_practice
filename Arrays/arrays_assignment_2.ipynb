{
  "nbformat": 4,
  "nbformat_minor": 0,
  "metadata": {
    "colab": {
      "provenance": [],
      "authorship_tag": "ABX9TyMW2Y650gYWzDpU2dthiekI",
      "include_colab_link": true
    },
    "kernelspec": {
      "name": "python3",
      "display_name": "Python 3"
    },
    "language_info": {
      "name": "python"
    }
  },
  "cells": [
    {
      "cell_type": "markdown",
      "metadata": {
        "id": "view-in-github",
        "colab_type": "text"
      },
      "source": [
        "<a href=\"https://colab.research.google.com/github/azmd801/DSA_practice/blob/main/Arrays/arrays_assignment_2.ipynb\" target=\"_parent\"><img src=\"https://colab.research.google.com/assets/colab-badge.svg\" alt=\"Open In Colab\"/></a>"
      ]
    },
    {
      "cell_type": "markdown",
      "source": [
        "\n",
        "💡 **Question 1**\n",
        "Given an integer array nums of 2n integers, group these integers into n pairs (a1, b1), (a2, b2),..., (an, bn) such that the sum of min(ai, bi) for all i is maximized. Return the maximized sum.\n",
        "\n",
        "**Example 1:**\n",
        "Input: nums = [1,4,3,2]\n",
        "Output: 4\n",
        "\n",
        "**Explanation:** All possible pairings (ignoring the ordering of elements) are:\n",
        "\n",
        "1. (1, 4), (2, 3) -> min(1, 4) + min(2, 3) = 1 + 2 = 3\n",
        "2. (1, 3), (2, 4) -> min(1, 3) + min(2, 4) = 1 + 2 = 3\n",
        "3. (1, 2), (3, 4) -> min(1, 2) + min(3, 4) = 1 + 3 = 4\n",
        "So the maximum possible sum is 4\n",
        "</aside>"
      ],
      "metadata": {
        "id": "BUVN2tvKPGWQ"
      }
    },
    {
      "cell_type": "code",
      "source": [
        "from typing import List\n",
        "\n",
        "def array_pair_sum(nums: List[int]) -> int:\n",
        "    \"\"\"\n",
        "    Compute the sum of minimum values of pairs in the array.\n",
        "\n",
        "    Pairs are formed by sorting the array and summing every alternate element.\n",
        "    \"\"\"\n",
        "    # Sort the array in ascending order\n",
        "    nums = sorted(nums)\n",
        "\n",
        "    # Sum the minimum of each pair by selecting every alternate element from the end\n",
        "    result = sum(nums[-2::-2])\n",
        "\n",
        "    return result\n",
        "\n",
        "# Example Usage:\n",
        "nums = [1, 4, 3, 2]\n",
        "print(array_pair_sum(nums))  # Output: 4"
      ],
      "metadata": {
        "colab": {
          "base_uri": "https://localhost:8080/"
        },
        "id": "rlqy_W-OPI47",
        "outputId": "985f034b-81c4-4bf7-aeb1-53243da1de79"
      },
      "execution_count": 19,
      "outputs": [
        {
          "output_type": "stream",
          "name": "stdout",
          "text": [
            "4\n"
          ]
        }
      ]
    },
    {
      "cell_type": "markdown",
      "source": [
        "\n",
        "💡 **Question 2**\n",
        "Alice has n candies, where the ith candy is of type candyType[i]. Alice noticed that she started to gain weight, so she visited a doctor.\n",
        "\n",
        "The doctor advised Alice to only eat n / 2 of the candies she has (n is always even). Alice likes her candies very much, and she wants to eat the maximum number of different types of candies while still following the doctor's advice.\n",
        "\n",
        "Given the integer array candyType of length n, return the maximum number of different types of candies she can eat if she only eats n / 2 of them.\n",
        "\n",
        "**Example 1:**\n",
        "Input: candyType = [1,1,2,2,3,3]\n",
        "Output: 3\n",
        "\n",
        "**Explanation:** Alice can only eat 6 / 2 = 3 candies. Since there are only 3 types, she can eat one of each type."
      ],
      "metadata": {
        "id": "C18EmVfCSrKi"
      }
    },
    {
      "cell_type": "code",
      "source": [
        "from typing import List\n",
        "\n",
        "def max_types_of_candies(candyType: List[int]) -> int:\n",
        "    \"\"\"\n",
        "    Calculate the maximum number of different types of candies Alice can eat.\n",
        "\n",
        "    Parameters:\n",
        "    - candyType (List[int]): The input array of candy types.\n",
        "\n",
        "    Returns:\n",
        "    - int: The maximum number of different types of candies Alice can eat.\n",
        "    \"\"\"\n",
        "    n = len(candyType)\n",
        "\n",
        "    # Using a set to get unique candy types\n",
        "    unique_candy = set(candyType)\n",
        "\n",
        "    # Return the minimum of the count of unique candy types and n / 2 (to follow the doctor's advice)\n",
        "    return min(len(unique_candy), n // 2)\n",
        "\n",
        "# Example Usage:\n",
        "candyType = [1, 1, 2, 2, 3, 3]\n",
        "print(max_types_of_candies(candyType))  # Output: 3"
      ],
      "metadata": {
        "colab": {
          "base_uri": "https://localhost:8080/"
        },
        "id": "5ejBA4i2S_uM",
        "outputId": "e0d76a03-2ddb-453b-b24c-e1e677cc0598"
      },
      "execution_count": 24,
      "outputs": [
        {
          "output_type": "stream",
          "name": "stdout",
          "text": [
            "3\n"
          ]
        }
      ]
    },
    {
      "cell_type": "markdown",
      "source": [
        "💡 **Question 2**    \n",
        "We define a harmonious array as an array where the difference between its maximum value\n",
        "and its minimum value is exactly 1.\n",
        "\n",
        "Given an integer array nums, return the length of its longest harmonious subsequence\n",
        "among all its possible subsequences.\n",
        "\n",
        "A subsequence of an array is a sequence that can be derived from the array by deleting some or no elements without changing the order of the remaining elements.\n",
        "\n",
        "***Example 1:**  \n",
        "Input: nums = [1,3,2,2,5,2,3,7]  \n",
        "Output: 5\n",
        "\n",
        "Explanation: The longest harmonious subsequence is [3,2,2,2,3]."
      ],
      "metadata": {
        "id": "QyZw0XR9Wcws"
      }
    },
    {
      "cell_type": "code",
      "source": [
        "from typing import List\n",
        "\n",
        "def find_longest_harmonious_subsequence(nums: List[int]) -> int:\n",
        "    \"\"\"\n",
        "    Find the length of the longest harmonious subsequence in the given array.\n",
        "    \"\"\"\n",
        "    count_dict = {}\n",
        "\n",
        "    # Count occurrences of each number in the array\n",
        "    for num in nums:\n",
        "        if num not in count_dict:\n",
        "            count_dict[num] = 1\n",
        "        else:\n",
        "            count_dict[num] += 1\n",
        "\n",
        "    max_length = -1\n",
        "\n",
        "    # Iterate through unique numbers in the array\n",
        "    for key in count_dict:\n",
        "        if key + 1 in count_dict:\n",
        "            # Calculate the length of the harmonious subsequence\n",
        "            length = count_dict[key] + count_dict[key + 1]\n",
        "            max_length = max(max_length, length)\n",
        "\n",
        "    if max_length == -1:\n",
        "        print(\"No harmonious subsequence found\")\n",
        "\n",
        "    return max_length\n",
        "\n",
        "# Example Usage:\n",
        "nums = [1, 3, 2, 2, 5, 2, 3, 7]\n",
        "print(find_longest_harmonious_subsequence(nums))"
      ],
      "metadata": {
        "colab": {
          "base_uri": "https://localhost:8080/"
        },
        "id": "HTL_pP94WDEb",
        "outputId": "cb19d670-16dc-4abf-e2c5-f0ec47b2ccc4"
      },
      "execution_count": 28,
      "outputs": [
        {
          "output_type": "stream",
          "name": "stdout",
          "text": [
            "5\n"
          ]
        }
      ]
    },
    {
      "cell_type": "code",
      "source": [],
      "metadata": {
        "id": "lyjrNcc2d3QF"
      },
      "execution_count": null,
      "outputs": []
    }
  ]
}