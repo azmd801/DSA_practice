{
  "nbformat": 4,
  "nbformat_minor": 0,
  "metadata": {
    "colab": {
      "provenance": [],
      "authorship_tag": "ABX9TyMv9RyzeRou6HA2EhVBwwbK",
      "include_colab_link": true
    },
    "kernelspec": {
      "name": "python3",
      "display_name": "Python 3"
    },
    "language_info": {
      "name": "python"
    }
  },
  "cells": [
    {
      "cell_type": "markdown",
      "metadata": {
        "id": "view-in-github",
        "colab_type": "text"
      },
      "source": [
        "<a href=\"https://colab.research.google.com/github/azmd801/DSA_practice/blob/main/Arrays/Array_notes_3.ipynb\" target=\"_parent\"><img src=\"https://colab.research.google.com/assets/colab-badge.svg\" alt=\"Open In Colab\"/></a>"
      ]
    },
    {
      "cell_type": "markdown",
      "source": [
        "\n",
        "💡 **Question 1**\n",
        "\n",
        "**Implement [pow(x, n)](http://www.cplusplus.com/reference/valarray/pow/), which calculates x raised to the power n (i.e., xn).**\n",
        "\n",
        "**Example 1:**\n",
        "\n",
        "**Input: x = 2.00000, n = 10**\n",
        "\n",
        "**Output: 1024.00000**\n",
        "\n",
        "**TC : O(log n)**\n",
        "\n",
        "**SC : O(1)**\n",
        "\n"
      ],
      "metadata": {
        "id": "yIhA5qkGJW9X"
      }
    },
    {
      "cell_type": "code",
      "source": [
        "class Solution:\n",
        "    def pow(self, x, n):\n",
        "        if n == 0:\n",
        "            return 1\n",
        "        if n < 0:\n",
        "            n = -n\n",
        "            x = 1 / x\n",
        "        return x * self.pow(x * x, n // 2) if n % 2 else self.pow(x * x, n // 2)"
      ],
      "metadata": {
        "id": "e3AJ9xHoKJWI"
      },
      "execution_count": null,
      "outputs": []
    },
    {
      "cell_type": "markdown",
      "source": [
        "\n",
        "💡 **Question 2**\n",
        "\n",
        "**A permutation of an array of integers is an arrangement of its members into a sequence or linear order.**\n",
        "\n",
        "- **For example, for arr = [1,2,3], the following are all the permutations of arr: [1,2,3], [1,3,2], [2, 1, 3], [2, 3, 1], [3,1,2], [3,2,1].**\n",
        "\n",
        "**The next permutation of an array of integers is the next lexicographically greater permutation of its integer. More formally, if all the permutations of the array are sorted in one container according to their lexicographical order, then the next permutation of that array is the permutation that follows it in the sorted container. If such arrangement is not possible, the array must be rearranged as the lowest possible order (i.e., sorted in ascending order).**\n",
        "\n",
        "- **For example, the next permutation of arr = [1,2,3] is [1,3,2].**\n",
        "- **Similarly, the next permutation of arr = [2,3,1] is [3,1,2].**\n",
        "- **While the next permutation of arr = [3,2,1] is [1,2,3] because [3,2,1] does not have a lexicographical larger rearrangement.**\n",
        "\n",
        "**Given an array of integers nums, *find the next permutation of* nums.**\n",
        "\n",
        "**The replacement must be [in place](http://en.wikipedia.org/wiki/In-place_algorithm) and use only constant extra memory.**\n",
        "\n",
        "**Example 1:**\n",
        "\n",
        "**Input: nums = [1,2,3]**\n",
        "\n",
        "**Output: [1,3,2]**\n",
        "\n",
        "**Time complexity: *O*(*n*). In worst case, only two scans of the whole array are needed.**\n",
        "\n",
        "**Space complexity: *O*(1). No extra space is used. In place replacements are done.**\n",
        "\n",
        "</aside>"
      ],
      "metadata": {
        "id": "MLdv-lB9KOIt"
      }
    },
    {
      "cell_type": "code",
      "source": [
        "def next_permutation(nums):\n",
        "    i = len(nums) - 2\n",
        "    while i >= 0 and nums[i + 1] <= nums[i]:\n",
        "        i -= 1\n",
        "    if i >= 0:\n",
        "        j = len(nums) - 1\n",
        "        while nums[j] <= nums[i]:\n",
        "            j -= 1\n",
        "        nums[i], nums[j] = nums[j], nums[i]\n",
        "    reverse(nums, i + 1)\n",
        "\n",
        "def reverse(nums, start):\n",
        "    i, j = start, len(nums) - 1\n",
        "    while i < j:\n",
        "        nums[i], nums[j] = nums[j], nums[i]\n",
        "        i += 1\n",
        "        j -= 1"
      ],
      "metadata": {
        "id": "QuKUw8gXKRfr"
      },
      "execution_count": null,
      "outputs": []
    },
    {
      "cell_type": "markdown",
      "source": [
        "💡 **Question 4**\n",
        "\n",
        "**Given an array nums with n objects colored red, white, or blue, sort them [in-place](https://en.wikipedia.org/wiki/In-place_algorithm) so that objects of the same color are adjacent, with the colors in the order red, white, and blue.**\n",
        "\n",
        "**We will use the integers 0, 1, and 2 to represent the color red, white, and blue, respectively.**\n",
        "\n",
        "**You must solve this problem without using the library's sort function.**\n",
        "\n",
        "**Example 1:**\n",
        "\n",
        "**Input: nums = [2,0,2,1,1,0]**\n",
        "\n",
        "**Output: [0,0,1,1,2,2]**\n",
        "\n",
        "**Solution:**\n",
        "\n",
        "**TC : O(n)**\n",
        "\n",
        "**SC : O(1)**\n",
        "\n",
        "</aside>"
      ],
      "metadata": {
        "id": "zn46qIk1KUZW"
      }
    },
    {
      "cell_type": "code",
      "source": [
        "def sort_colors(nums):\n",
        "    p0 = 0\n",
        "    curr = 0\n",
        "    p2 = len(nums) - 1\n",
        "\n",
        "    while curr <= p2:\n",
        "        if nums[curr] == 0:\n",
        "            nums[p0], nums[curr] = nums[curr], nums[p0]\n",
        "            p0 += 1\n",
        "            curr += 1\n",
        "        elif nums[curr] == 2:\n",
        "            nums[curr], nums[p2] = nums[p2], nums[curr]\n",
        "            p2 -= 1\n",
        "        else:\n",
        "            curr += 1"
      ],
      "metadata": {
        "id": "31sT8phrKYeU"
      },
      "execution_count": null,
      "outputs": []
    },
    {
      "cell_type": "markdown",
      "source": [
        "\n",
        "💡 **Question 5**\n",
        "\n",
        "**Given an integer array nums, rotate the array to the right by k steps, where k is non-negative.**\n",
        "\n",
        "**Example 1:**\n",
        "\n",
        "**Input: nums = [1,2,3,4,5,6,7], k = 3**\n",
        "\n",
        "**Output: [5,6,7,1,2,3,4]**\n",
        "\n",
        "**Explanation:**\n",
        "\n",
        "**rotate 1 steps to the right: [7,1,2,3,4,5,6]**\n",
        "\n",
        "**rotate 2 steps to the right: [6,7,1,2,3,4,5]**\n",
        "\n",
        "**rotate 3 steps to the right: [5,6,7,1,2,3,4]**\n",
        "\n",
        "**Solution:**\n",
        "\n",
        "**TC: O(n)**\n",
        "\n",
        "**SC: O(1)**\n",
        "\n",
        "</aside>"
      ],
      "metadata": {
        "id": "J-A8xQg2Kbk6"
      }
    },
    {
      "cell_type": "code",
      "source": [
        "class Solution {\n",
        "  public void rotate(int[] nums, int k) {\n",
        "    k %= nums.length;\n",
        "    reverse(nums, 0, nums.length - 1);\n",
        "    reverse(nums, 0, k - 1);\n",
        "    reverse(nums, k, nums.length - 1);\n",
        "  }\n",
        "  public void reverse(int[] nums, int start, int end) {\n",
        "    while (start < end) {\n",
        "      int temp = nums[start];\n",
        "      nums[start] = nums[end];\n",
        "      nums[end] = temp;\n",
        "      start++;\n",
        "      end--;\n",
        "    }\n",
        "  }\n",
        "}"
      ],
      "metadata": {
        "id": "hbSA0RZTKf44"
      },
      "execution_count": null,
      "outputs": []
    },
    {
      "cell_type": "markdown",
      "source": [
        "\n",
        "💡 **Question 6**\n",
        "\n",
        "**Given a binary array nums, return *the maximum number of consecutive* 1*'s in the array*.**\n",
        "\n",
        "**Example 1:**\n",
        "\n",
        "**Input: nums = [1,1,0,1,1,1]**\n",
        "\n",
        "**Output: 3**\n",
        "\n",
        "**Explanation: The first two digits or the last three digits are consecutive 1s. The maximum number of consecutive 1s is 3.**\n",
        "\n",
        "**Solution:**\n",
        "\n",
        "**TC : O(n)**\n",
        "\n",
        "**SC : O(1)**\n",
        "\n",
        "</aside>"
      ],
      "metadata": {
        "id": "zyvDvrUvKiFt"
      }
    },
    {
      "cell_type": "code",
      "source": [
        "class Solution {\n",
        "  public int findMaxConsecutiveOnes(int[] nums) {\n",
        "    int count = 0;\n",
        "    int maxCount = 0;\n",
        "    for(int i = 0; i < nums.length; i++) {\n",
        "      if(nums[i] == 1) {\n",
        "        // Increment the count of 1's by one.\n",
        "        count += 1;\n",
        "      } else {\n",
        "        // Find the maximum till now.\n",
        "        maxCount = Math.max(maxCount, count);\n",
        "        // Reset count of 1.\n",
        "        count = 0;\n",
        "      }\n",
        "    }\n",
        "    return Math.max(maxCount, count);\n",
        "  }\n",
        "}"
      ],
      "metadata": {
        "id": "GEjnACrnKlgt"
      },
      "execution_count": null,
      "outputs": []
    }
  ]
}