{
  "nbformat": 4,
  "nbformat_minor": 0,
  "metadata": {
    "colab": {
      "provenance": [],
      "authorship_tag": "ABX9TyNWOa20PMbshZYWJeaz2JWn",
      "include_colab_link": true
    },
    "kernelspec": {
      "name": "python3",
      "display_name": "Python 3"
    },
    "language_info": {
      "name": "python"
    }
  },
  "cells": [
    {
      "cell_type": "markdown",
      "metadata": {
        "id": "view-in-github",
        "colab_type": "text"
      },
      "source": [
        "<a href=\"https://colab.research.google.com/github/azmd801/DSA_practice/blob/main/Arrays/arrays_assignment_3.ipynb\" target=\"_parent\"><img src=\"https://colab.research.google.com/assets/colab-badge.svg\" alt=\"Open In Colab\"/></a>"
      ]
    },
    {
      "cell_type": "markdown",
      "source": [
        "💡**Question 1**  \n",
        "Given an integer array nums of length n and an integer target, find three integers\n",
        "in nums such that the sum is closest to the target.\n",
        "Return the sum of the three integers.\n",
        "\n",
        "You may assume that each input would have exactly one solution.\n",
        "\n",
        "Example 1:\n",
        "Input: nums = [-1,2,1,-4], target = 1\n",
        "Output: 2\n",
        "\n",
        "Explanation: The sum that is closest to the target is 2. (-1 + 2 + 1 = 2)."
      ],
      "metadata": {
        "id": "WfokBE_t4jPc"
      }
    },
    {
      "cell_type": "code",
      "source": [
        "from typing import List\n",
        "\n",
        "def three_sum_closest(nums: List[int], target: int) -> int:\n",
        "    \"\"\"\n",
        "    Find three integers in nums such that the sum is closest to the target.\n",
        "    \"\"\"\n",
        "\n",
        "    nums = sorted(nums)\n",
        "    closest_difference = float('inf')\n",
        "    result = 0\n",
        "\n",
        "    for i in range(len(nums)):\n",
        "        l, r = i + 1, len(nums) - 1\n",
        "        while l < r:\n",
        "            sums = nums[l] + nums[r] + nums[i]\n",
        "            diff = abs(sums - target)\n",
        "\n",
        "            # Update result and closest_difference if the current triplet is closer to the target\n",
        "            if diff < closest_difference:\n",
        "                result, closest_difference = sums, diff\n",
        "\n",
        "            # Adjust pointers based on the current triplet sum\n",
        "            if sums > target:\n",
        "                r -= 1\n",
        "            elif sums < target:\n",
        "                l += 1\n",
        "            else:\n",
        "                return sums\n",
        "\n",
        "    return result\n",
        "\n",
        "# Example Usage:\n",
        "print(three_sum_closest(nums=[-1, 2, 1, -4], target=1))  # Output: 2\n",
        "print(three_sum_closest(nums=[0, 1, 2], target=3))        # Output: 3\n",
        "print(three_sum_closest(nums=[2, 3, 8, 9, 10], target=16)) # Output: 15"
      ],
      "metadata": {
        "colab": {
          "base_uri": "https://localhost:8080/"
        },
        "id": "XlokD_l74wOF",
        "outputId": "926f5313-e79a-44ac-b43a-6b4d8eef1c35"
      },
      "execution_count": 11,
      "outputs": [
        {
          "output_type": "stream",
          "name": "stdout",
          "text": [
            "2\n",
            "3\n",
            "15\n"
          ]
        }
      ]
    },
    {
      "cell_type": "markdown",
      "source": [
        "💡**Question 2**  \n",
        "Given an array nums of n integers, return an array of all the unique quadruplets\n",
        "[nums[a], nums[b], nums[c], nums[d]] such that:  \n",
        "           ● 0 <= a, b, c, d < n  \n",
        "           ● a, b, c, and d are distinct.  \n",
        "           ● nums[a] + nums[b] + nums[c] + nums[d] == target  \n",
        "\n",
        "You may return the answer in any order.\n",
        "\n",
        "Example 1:\n",
        "Input: nums = [1,0,-1,0,-2,2], target = 0  \n",
        "Output: [[-2,-1,1,2],[-2,0,0,2],[-1,0,0,1]]"
      ],
      "metadata": {
        "id": "P6ps8u5kGsIe"
      }
    },
    {
      "cell_type": "code",
      "source": [
        "from typing import List\n",
        "\n",
        "def four_sum(nums: List[int], target: int) -> List[List[int]]:\n",
        "    \"\"\"\n",
        "    Find all unique quadruplets in the array such that their sum equals the target.\n",
        "    \"\"\"\n",
        "    # Sort the array in ascending order\n",
        "    nums = sorted(nums)\n",
        "    result = []\n",
        "\n",
        "    # Iterate through all possible pairs of indices\n",
        "    for i in range(len(nums)):\n",
        "        for j in range(i + 1, len(nums)):\n",
        "            # Use two pointers to find a pair of indices such that their sum equals the target\n",
        "            l, r = j + 1, len(nums) - 1\n",
        "            while l < r:\n",
        "                current_sum = nums[i] + nums[j] + nums[l] + nums[r]\n",
        "\n",
        "                if current_sum < target:\n",
        "                    l += 1\n",
        "                elif current_sum > target:\n",
        "                    r -= 1\n",
        "                else:\n",
        "                    # Add the quadruplet to the result list\n",
        "                    result.append([nums[i], nums[j], nums[l], nums[r]])\n",
        "                    l += 1\n",
        "                    r -= 1\n",
        "\n",
        "    return result\n",
        "\n",
        "# Example Usage:\n",
        "print(four_sum(nums=[1, 0, -1, 0, -2, 2], target=0))\n",
        "print(four_sum(nums=[2, 2, 2, 2], target=8))\n"
      ],
      "metadata": {
        "colab": {
          "base_uri": "https://localhost:8080/"
        },
        "id": "5rWoyCrNHHZk",
        "outputId": "0a3694ea-891f-4c4f-ca87-b7086834d140"
      },
      "execution_count": 18,
      "outputs": [
        {
          "output_type": "stream",
          "name": "stdout",
          "text": [
            "[[-2, -1, 1, 2], [-2, 0, 0, 2], [-1, 0, 0, 1]]\n",
            "[[2, 2, 2, 2]]\n"
          ]
        }
      ]
    },
    {
      "cell_type": "markdown",
      "source": [
        "\n",
        "💡 **Question 3**  \n",
        "A permutation of an array of integers is an arrangement of its members into a\n",
        "sequence or linear order.\n",
        "\n",
        "For example, for arr = [1,2,3], the following are all the permutations of arr:\n",
        "[1,2,3], [1,3,2], [2, 1, 3], [2, 3, 1], [3,1,2], [3,2,1].\n",
        "\n",
        "The next permutation of an array of integers is the next lexicographically greater\n",
        "permutation of its integer. More formally, if all the permutations of the array are\n",
        "sorted in one container according to their lexicographical order, then the next\n",
        "permutation of that array is the permutation that follows it in the sorted container.\n",
        "\n",
        "If such an arrangement is not possible, the array must be rearranged as the\n",
        "lowest possible order (i.e., sorted in ascending order).  \n",
        "\n",
        "● For example, the next permutation of arr = [1,2,3] is [1,3,2].  \n",
        "● Similarly, the next permutation of arr = [2,3,1] is [3,1,2].  \n",
        "● While the next permutation of arr = [3,2,1] is [1,2,3] because [3,2,1] does not\n",
        "have a lexicographical larger rearrangement.\n",
        "\n",
        "Given an array of integers nums, find the next permutation of nums.\n",
        "The replacement must be in place and use only constant extra memory.\n",
        "\n",
        "**Example 1:**\n",
        "Input: nums = [1,2,3]  \n",
        "Output: [1,3,2]\n",
        "\n",
        "</aside>"
      ],
      "metadata": {
        "id": "4lNpEMIueayO"
      }
    },
    {
      "cell_type": "code",
      "source": [
        "from typing import List\n",
        "\n",
        "def func(nums: List[int]) -> List[int]:\n",
        "    \"\"\"\n",
        "    Generate the next lexicographically greater permutation of a list of integers.\n",
        "    \"\"\"\n",
        "    p = len(nums) - 1\n",
        "\n",
        "    # Find the first decreasing element\n",
        "    while p > 0:\n",
        "        if nums[p - 1] >= nums[p]:\n",
        "            p -= 1\n",
        "        else:\n",
        "            # Find the element to swap with\n",
        "            j = len(nums) - 1\n",
        "            while j > 0:\n",
        "                if nums[j] > nums[p - 1]:\n",
        "                    nums[p - 1], nums[j] = nums[j], nums[p - 1]\n",
        "                    break\n",
        "                j -= 1\n",
        "            break\n",
        "\n",
        "    # Reverse the suffix of the list\n",
        "    nums = nums[:p] + list(reversed(nums[p:]))\n",
        "\n",
        "    return nums\n",
        "\n",
        "# Example Usage:\n",
        "\n",
        "print(func(nums=[1,2,3]))\n",
        "print(func(nums=[1, 3, 2]))\n",
        "print(func(nums=[3,2,1]))\n",
        "print(func(nums=[1,3,2,1]))\n",
        "print(func(nums=[3,2,1,1]))"
      ],
      "metadata": {
        "colab": {
          "base_uri": "https://localhost:8080/"
        },
        "id": "u4CgSFGberr6",
        "outputId": "dee10279-603b-435d-9725-3a328e3e1d72"
      },
      "execution_count": 33,
      "outputs": [
        {
          "output_type": "stream",
          "name": "stdout",
          "text": [
            "[1, 3, 2]\n",
            "[2, 1, 3]\n",
            "[1, 2, 3]\n",
            "[2, 1, 1, 3]\n",
            "[1, 1, 2, 3]\n"
          ]
        }
      ]
    },
    {
      "cell_type": "markdown",
      "source": [
        "**Question 4**  \n",
        "Given a sorted array of distinct integers and a target value, return the index if the\n",
        "target is found. If not, return the index where it would be if it were inserted in\n",
        "order.\n",
        "\n",
        "You must write an algorithm with O(log n) runtime complexity.\n",
        "\n",
        "Example 1:  \n",
        "Input: nums = [1,3,5,6], target = 5  \n",
        "Output: 2"
      ],
      "metadata": {
        "id": "gnJcekOs_VCK"
      }
    },
    {
      "cell_type": "code",
      "source": [
        "from typing import List\n",
        "\n",
        "def find_insert_position(nums: List[int], target: int) -> int:\n",
        "    \"\"\"\n",
        "    Find the position to insert the target element into a sorted array.\n",
        "    \"\"\"\n",
        "    l = 0\n",
        "    r = len(nums) - 1\n",
        "\n",
        "    while l <= r:\n",
        "        m = (l + r) // 2\n",
        "\n",
        "        # Check if the target should be inserted to the right of the middle element\n",
        "        if target > nums[m]:\n",
        "            l = m + 1\n",
        "        # Check if the target should be inserted to the left of the middle element\n",
        "        elif target < nums[m]:\n",
        "            r = m - 1\n",
        "        # If the target is equal to the middle element, return the current position\n",
        "        else:\n",
        "            return m\n",
        "\n",
        "    # Return the position where the target should be inserted\n",
        "    return l\n",
        "\n",
        "# Example Usage:\n",
        "print(find_insert_position(nums=[1, 3, 5, 6], target=3))\n",
        "print(find_insert_position(nums=[1, 3, 5, 6], target=4))\n",
        "print(find_insert_position(nums=[1, 3, 5, 6], target=6))\n",
        "print(find_insert_position(nums=[1, 3, 5, 6], target=7))\n",
        "print(find_insert_position(nums=[1, 3, 5, 6], target=-1))"
      ],
      "metadata": {
        "colab": {
          "base_uri": "https://localhost:8080/"
        },
        "id": "ZI6IbHTW_rCF",
        "outputId": "d67e3adb-8dcb-4c49-f3c8-717f53832171"
      },
      "execution_count": 25,
      "outputs": [
        {
          "output_type": "stream",
          "name": "stdout",
          "text": [
            "1\n",
            "2\n",
            "3\n",
            "4\n",
            "0\n"
          ]
        }
      ]
    },
    {
      "cell_type": "markdown",
      "source": [
        "\n",
        " **Question 5**\n",
        "You are given a large integer represented as an integer array digits, where each\n",
        "digits[i] is the ith digit of the integer. The digits are ordered from most significant\n",
        "to least significant in left-to-right order. The large integer does not contain any\n",
        "leading 0's.\n",
        "\n",
        "Increment the large integer by one and return the resulting array of digits.\n",
        "\n",
        "**Example 1:**\n",
        "Input: digits = [1,2,3]\n",
        "Output: [1,2,4]\n",
        "\n",
        "**Explanation:** The array represents the integer 123.\n",
        "Incrementing by one gives 123 + 1 = 124.\n",
        "Thus, the result should be [1,2,4].\n",
        "\n",
        "</aside>"
      ],
      "metadata": {
        "id": "uT2OgtFDy7hm"
      }
    },
    {
      "cell_type": "code",
      "source": [
        "from typing import List\n",
        "\n",
        "def increment_by_one(nums: List[int]) -> List[int]:\n",
        "    \"\"\"\n",
        "    Increment a number represented as an array of digits by 1.\n",
        "    \"\"\"\n",
        "    carry = 1\n",
        "    rem = 0\n",
        "\n",
        "    # Iterate through the array from right to left\n",
        "    for i in range(len(nums)-1, -1, -1):\n",
        "        rem = (nums[i] + carry) % 10\n",
        "        carry = (nums[i] + carry) // 10\n",
        "        nums[i] = rem\n",
        "\n",
        "    # If there's a remaining carry, add it as a new digit\n",
        "    if carry != 0:\n",
        "        return [carry] + nums\n",
        "\n",
        "    return nums\n",
        "\n",
        "# Example Usage:\n",
        "print(increment_by_one(nums=[1, 2, 3]))\n",
        "print(increment_by_one(nums=[1, 2, 9]))\n",
        "print(increment_by_one(nums=[9, 9]))\n",
        "print(increment_by_one(nums=[9, 9, 9]))"
      ],
      "metadata": {
        "colab": {
          "base_uri": "https://localhost:8080/"
        },
        "id": "UFRlXRkh2D-R",
        "outputId": "2915529a-1a94-4067-8973-b1ff664631cf"
      },
      "execution_count": 40,
      "outputs": [
        {
          "output_type": "stream",
          "name": "stdout",
          "text": [
            "[1, 2, 4]\n",
            "[1, 3, 0]\n",
            "[1, 0, 0]\n",
            "[1, 0, 0, 0]\n"
          ]
        }
      ]
    },
    {
      "cell_type": "markdown",
      "source": [
        "**Question 6**\n",
        "\n",
        "Given a binary array nums, return the maximum number of consecutive 1's in the array.\n",
        "\n",
        "Example 1:\n",
        "\n",
        "Input: nums = [1,1,0,1,1,1]\n",
        "\n",
        "Output: 3\n",
        "\n",
        "Explanation: The first two digits or the last three digits are consecutive 1s. The maximum number of consecutive 1s is 3.\n",
        "\n",
        "Solution:\n",
        "\n",
        "TC : O(n)\n",
        "\n",
        "SC : O(1)"
      ],
      "metadata": {
        "id": "T0m1APn581Bo"
      }
    },
    {
      "cell_type": "code",
      "source": [
        "from typing import List\n",
        "\n",
        "def max_consecutive_ones(nums: List[int]) -> int:\n",
        "    \"\"\"\n",
        "    Find the maximum number of consecutive 1's in a binary array.\n",
        "    \"\"\"\n",
        "    max_count = float('-inf')\n",
        "    count = 0\n",
        "\n",
        "    # Iterate through the array\n",
        "    for i in range(len(nums)):\n",
        "        if nums[i] == 1:\n",
        "            # Increment count for consecutive 1's\n",
        "            count += 1\n",
        "            # Update the maximum count\n",
        "            max_count = max(max_count, count)\n",
        "        else:\n",
        "            # Reset count when 0 is encountered\n",
        "            count = 0\n",
        "\n",
        "    return max_count\n",
        "\n",
        "# Example Usage:\n",
        "print(max_consecutive_ones(nums=[1, 1, 0, 1, 1, 1]))\n",
        "print(max_consecutive_ones(nums=[1, 1, 0, 1]))\n",
        "print(max_consecutive_ones(nums=[1, 1, 1, 1]))\n",
        "print(max_consecutive_ones(nums=[0, 0, 0, 0, 0]))\n",
        "print(max_consecutive_ones(nums=[0, 0, 0, 0, 1]))"
      ],
      "metadata": {
        "colab": {
          "base_uri": "https://localhost:8080/"
        },
        "id": "WcJqZ0fV87BO",
        "outputId": "1bbdfb60-544c-4039-9530-1cfa6a360acb"
      },
      "execution_count": 47,
      "outputs": [
        {
          "output_type": "stream",
          "name": "stdout",
          "text": [
            "3\n",
            "2\n",
            "4\n",
            "-inf\n",
            "1\n"
          ]
        }
      ]
    },
    {
      "cell_type": "markdown",
      "source": [
        "**Question 7**  \n",
        "Given a non-empty array of integers nums, every element appears twice except\n",
        "for one. Find that single one.\n",
        "\n",
        "You must implement a solution with a linear runtime complexity and use only\n",
        "constant extra space.\n",
        "\n",
        "Example 1:  \n",
        "Input: nums = [2,2,1]  \n",
        "Output: 1  "
      ],
      "metadata": {
        "id": "xFGotWFwLmy7"
      }
    },
    {
      "cell_type": "code",
      "source": [
        "from typing import List\n",
        "\n",
        "def singleNumber(nums: List[int]) -> int:\n",
        "    result = 0\n",
        "\n",
        "    # XOR all elements in the array\n",
        "    for num in nums:\n",
        "        result ^= num\n",
        "\n",
        "    return result\n",
        "\n",
        "# Example Usage:\n",
        "nums = [2, 2, 1]\n",
        "print(singleNumber(nums))  # Output: 1\n",
        "\n",
        "nums = [2, 1, 2]\n",
        "print(singleNumber(nums))  # Output: 1\n",
        "\n",
        "nums = [2, 1, 2,1,5]\n",
        "print(singleNumber(nums))  # Output: 1"
      ],
      "metadata": {
        "colab": {
          "base_uri": "https://localhost:8080/"
        },
        "id": "1FGsj-BELWyq",
        "outputId": "6597b400-c5ac-499d-cf2e-4cf6911f7cbf"
      },
      "execution_count": 50,
      "outputs": [
        {
          "output_type": "stream",
          "name": "stdout",
          "text": [
            "1\n",
            "1\n",
            "5\n"
          ]
        }
      ]
    },
    {
      "cell_type": "markdown",
      "source": [
        "**Question 8**  \n",
        "You are given an inclusive range [lower, upper] and a sorted unique integer array\n",
        "nums, where all elements are within the inclusive range.\n",
        "\n",
        "A number x is considered missing if x is in the range [lower, upper] and x is not in\n",
        "nums.\n",
        "\n",
        "Return the shortest sorted list of ranges that exactly covers all the missing\n",
        "numbers. That is, no element of nums is included in any of the ranges, and each\n",
        "missing number is covered by one of the ranges.\n",
        "\n",
        "Example 1:\n",
        "Input: nums = [0,1,3,50,75], lower = 0, upper = 99  \n",
        "Output: [[2,2],[4,49],[51,74],[76,99]]  \n",
        "\n",
        "Explanation: The ranges are:  \n",
        "[2,2]  \n",
        "[4,49]  \n",
        "[51,74]  \n",
        "[76,99]  "
      ],
      "metadata": {
        "id": "6UNt2-Q0AE8r"
      }
    },
    {
      "cell_type": "code",
      "source": [
        "from typing import List, Tuple\n",
        "\n",
        "def find_missing_ranges(nums: List[int], lower: int, upper: int) -> List[Tuple[int, int]]:\n",
        "    \"\"\"\n",
        "    Finds missing ranges between lower and upper in the given nums array.\n",
        "    \"\"\"\n",
        "    final_list = []\n",
        "\n",
        "    # Check if the range starts from lower\n",
        "    if nums and nums[0] > lower:\n",
        "        final_list.append([lower, nums[0] - 1])\n",
        "\n",
        "    # Iterate through the array to find missing ranges between consecutive numbers\n",
        "    for i in range(1, len(nums)):\n",
        "        if nums[i] > nums[i - 1] + 1:\n",
        "            final_list.append([nums[i - 1] + 1, nums[i] - 1])\n",
        "\n",
        "    # Check if the range ends at upper\n",
        "    if nums and nums[-1] < upper:\n",
        "        final_list.append([nums[-1] + 1, upper])\n",
        "\n",
        "    return final_list\n",
        "\n",
        "# Example Usage:\n",
        "nums = [0, 1, 3, 50, 75]\n",
        "lower = 0\n",
        "upper = 99\n",
        "print(find_missing_ranges(nums, lower, upper))\n",
        "\n"
      ],
      "metadata": {
        "colab": {
          "base_uri": "https://localhost:8080/"
        },
        "id": "KhhSBcQRAX0q",
        "outputId": "a2ff4360-71c8-496a-eec3-202e62d7db4a"
      },
      "execution_count": 22,
      "outputs": [
        {
          "output_type": "stream",
          "name": "stdout",
          "text": [
            "[[2, 2], [4, 49], [51, 74], [76, 99]]\n"
          ]
        }
      ]
    },
    {
      "cell_type": "markdown",
      "source": [
        "**Question 9**  \n",
        "Given an array of meeting time intervals where intervals[i] = [starti, endi],\n",
        "determine if a person could attend all meetings.\n",
        "\n",
        "Example 1:  \n",
        "Input: intervals = [[0,30],[5,10],[15,20]]  \n",
        "Output: false  "
      ],
      "metadata": {
        "id": "lCSyyhwVOyds"
      }
    },
    {
      "cell_type": "code",
      "source": [
        "intervals = [[6,30],[5,10],[15,20]]\n",
        "sorted(intervals,key=lambda x: x[0])"
      ],
      "metadata": {
        "colab": {
          "base_uri": "https://localhost:8080/"
        },
        "id": "HdL1-jzjUT61",
        "outputId": "74945dcd-25b8-4187-e07d-afc3387c83c5"
      },
      "execution_count": 26,
      "outputs": [
        {
          "output_type": "execute_result",
          "data": {
            "text/plain": [
              "[[5, 10], [6, 30], [15, 20]]"
            ]
          },
          "metadata": {},
          "execution_count": 26
        }
      ]
    },
    {
      "cell_type": "code",
      "source": [
        "from typing import List\n",
        "\n",
        "def can_attend_all_meetings(intervals: List[List[int]]) -> bool:\n",
        "    \"\"\"\n",
        "    Determines if a person could attend all meetings without any overlaps.\n",
        "    \"\"\"\n",
        "    # Sort intervals based on the start times\n",
        "    intervals = sorted(intervals, key=lambda x: x[0])\n",
        "\n",
        "    # Check for overlaps in adjacent intervals\n",
        "    for i in range(len(intervals) - 1):\n",
        "        if intervals[i][-1] > intervals[i + 1][0]:\n",
        "            return False\n",
        "\n",
        "    return True\n",
        "\n",
        "# Example Usage:\n",
        "print(can_attend_all_meetings([[0, 30], [5, 10], [15, 20]]))\n",
        "print(can_attend_all_meetings([[6, 30], [5, 10], [15, 20]]))\n",
        "print(can_attend_all_meetings([[5, 10], [0, 5], [15, 20]]))"
      ],
      "metadata": {
        "colab": {
          "base_uri": "https://localhost:8080/"
        },
        "id": "JVwwdXsoO-wF",
        "outputId": "1237675b-4a86-4009-8351-6b8c9f84c7fe"
      },
      "execution_count": 31,
      "outputs": [
        {
          "output_type": "stream",
          "name": "stdout",
          "text": [
            "False\n",
            "False\n",
            "True\n"
          ]
        }
      ]
    }
  ]
}