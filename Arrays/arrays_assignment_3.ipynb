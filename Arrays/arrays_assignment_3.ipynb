{
  "nbformat": 4,
  "nbformat_minor": 0,
  "metadata": {
    "colab": {
      "provenance": [],
      "authorship_tag": "ABX9TyMJGIfcrxPN43/YXpgzqBXd",
      "include_colab_link": true
    },
    "kernelspec": {
      "name": "python3",
      "display_name": "Python 3"
    },
    "language_info": {
      "name": "python"
    }
  },
  "cells": [
    {
      "cell_type": "markdown",
      "metadata": {
        "id": "view-in-github",
        "colab_type": "text"
      },
      "source": [
        "<a href=\"https://colab.research.google.com/github/azmd801/DSA_practice/blob/main/Arrays/arrays_assignment_3.ipynb\" target=\"_parent\"><img src=\"https://colab.research.google.com/assets/colab-badge.svg\" alt=\"Open In Colab\"/></a>"
      ]
    },
    {
      "cell_type": "markdown",
      "source": [
        "**Question 1**  \n",
        "Given an integer array nums of length n and an integer target, find three integers\n",
        "in nums such that the sum is closest to the target.\n",
        "Return the sum of the three integers.\n",
        "\n",
        "You may assume that each input would have exactly one solution.\n",
        "\n",
        "Example 1:\n",
        "Input: nums = [-1,2,1,-4], target = 1\n",
        "Output: 2\n",
        "\n",
        "Explanation: The sum that is closest to the target is 2. (-1 + 2 + 1 = 2)."
      ],
      "metadata": {
        "id": "WfokBE_t4jPc"
      }
    },
    {
      "cell_type": "code",
      "source": [
        "from typing import List\n",
        "\n",
        "def three_sum_closest(nums: List[int], target: int) -> int:\n",
        "    \"\"\"\n",
        "    Find three integers in nums such that the sum is closest to the target.\n",
        "    \"\"\"\n",
        "\n",
        "    nums = sorted(nums)\n",
        "    closest_difference = float('inf')\n",
        "    result = 0\n",
        "\n",
        "    for i in range(len(nums)):\n",
        "        l, r = i + 1, len(nums) - 1\n",
        "        while l < r:\n",
        "            sums = nums[l] + nums[r] + nums[i]\n",
        "            diff = abs(sums - target)\n",
        "\n",
        "            # Update result and closest_difference if the current triplet is closer to the target\n",
        "            if diff < closest_difference:\n",
        "                result, closest_difference = sums, diff\n",
        "\n",
        "            # Adjust pointers based on the current triplet sum\n",
        "            if sums > target:\n",
        "                r -= 1\n",
        "            elif sums < target:\n",
        "                l += 1\n",
        "            else:\n",
        "                return sums\n",
        "\n",
        "    return result\n",
        "\n",
        "# Example Usage:\n",
        "print(three_sum_closest(nums=[-1, 2, 1, -4], target=1))  # Output: 2\n",
        "print(three_sum_closest(nums=[0, 1, 2], target=3))        # Output: 3\n",
        "print(three_sum_closest(nums=[2, 3, 8, 9, 10], target=16)) # Output: 15"
      ],
      "metadata": {
        "colab": {
          "base_uri": "https://localhost:8080/"
        },
        "id": "XlokD_l74wOF",
        "outputId": "926f5313-e79a-44ac-b43a-6b4d8eef1c35"
      },
      "execution_count": 11,
      "outputs": [
        {
          "output_type": "stream",
          "name": "stdout",
          "text": [
            "2\n",
            "3\n",
            "15\n"
          ]
        }
      ]
    },
    {
      "cell_type": "code",
      "source": [
        "# prompt: inifinity\n",
        "\n",
        "inf = float(\"inf\")\n"
      ],
      "metadata": {
        "id": "wLavMVCs9J8Q"
      },
      "execution_count": null,
      "outputs": []
    }
  ]
}