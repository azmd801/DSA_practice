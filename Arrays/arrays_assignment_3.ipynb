{
  "nbformat": 4,
  "nbformat_minor": 0,
  "metadata": {
    "colab": {
      "provenance": [],
      "authorship_tag": "ABX9TyPWe3PE8wVmBu4mNJG7iYtx",
      "include_colab_link": true
    },
    "kernelspec": {
      "name": "python3",
      "display_name": "Python 3"
    },
    "language_info": {
      "name": "python"
    }
  },
  "cells": [
    {
      "cell_type": "markdown",
      "metadata": {
        "id": "view-in-github",
        "colab_type": "text"
      },
      "source": [
        "<a href=\"https://colab.research.google.com/github/azmd801/DSA_practice/blob/main/Arrays/arrays_assignment_3.ipynb\" target=\"_parent\"><img src=\"https://colab.research.google.com/assets/colab-badge.svg\" alt=\"Open In Colab\"/></a>"
      ]
    },
    {
      "cell_type": "markdown",
      "source": [
        "**Question 1**  \n",
        "Given an integer array nums of length n and an integer target, find three integers\n",
        "in nums such that the sum is closest to the target.\n",
        "Return the sum of the three integers.\n",
        "\n",
        "You may assume that each input would have exactly one solution.\n",
        "\n",
        "Example 1:\n",
        "Input: nums = [-1,2,1,-4], target = 1\n",
        "Output: 2\n",
        "\n",
        "Explanation: The sum that is closest to the target is 2. (-1 + 2 + 1 = 2)."
      ],
      "metadata": {
        "id": "WfokBE_t4jPc"
      }
    },
    {
      "cell_type": "code",
      "source": [
        "from typing import List\n",
        "\n",
        "def three_sum_closest(nums: List[int], target: int) -> int:\n",
        "    \"\"\"\n",
        "    Find three integers in nums such that the sum is closest to the target.\n",
        "    \"\"\"\n",
        "\n",
        "    nums = sorted(nums)\n",
        "    closest_difference = float('inf')\n",
        "    result = 0\n",
        "\n",
        "    for i in range(len(nums)):\n",
        "        l, r = i + 1, len(nums) - 1\n",
        "        while l < r:\n",
        "            sums = nums[l] + nums[r] + nums[i]\n",
        "            diff = abs(sums - target)\n",
        "\n",
        "            # Update result and closest_difference if the current triplet is closer to the target\n",
        "            if diff < closest_difference:\n",
        "                result, closest_difference = sums, diff\n",
        "\n",
        "            # Adjust pointers based on the current triplet sum\n",
        "            if sums > target:\n",
        "                r -= 1\n",
        "            elif sums < target:\n",
        "                l += 1\n",
        "            else:\n",
        "                return sums\n",
        "\n",
        "    return result\n",
        "\n",
        "# Example Usage:\n",
        "print(three_sum_closest(nums=[-1, 2, 1, -4], target=1))  # Output: 2\n",
        "print(three_sum_closest(nums=[0, 1, 2], target=3))        # Output: 3\n",
        "print(three_sum_closest(nums=[2, 3, 8, 9, 10], target=16)) # Output: 15"
      ],
      "metadata": {
        "colab": {
          "base_uri": "https://localhost:8080/"
        },
        "id": "XlokD_l74wOF",
        "outputId": "926f5313-e79a-44ac-b43a-6b4d8eef1c35"
      },
      "execution_count": 11,
      "outputs": [
        {
          "output_type": "stream",
          "name": "stdout",
          "text": [
            "2\n",
            "3\n",
            "15\n"
          ]
        }
      ]
    },
    {
      "cell_type": "markdown",
      "source": [
        "**Question 2**  \n",
        "Given an array nums of n integers, return an array of all the unique quadruplets\n",
        "[nums[a], nums[b], nums[c], nums[d]] such that:  \n",
        "           ● 0 <= a, b, c, d < n  \n",
        "           ● a, b, c, and d are distinct.  \n",
        "           ● nums[a] + nums[b] + nums[c] + nums[d] == target  \n",
        "\n",
        "You may return the answer in any order.\n",
        "\n",
        "Example 1:\n",
        "Input: nums = [1,0,-1,0,-2,2], target = 0  \n",
        "Output: [[-2,-1,1,2],[-2,0,0,2],[-1,0,0,1]]"
      ],
      "metadata": {
        "id": "P6ps8u5kGsIe"
      }
    },
    {
      "cell_type": "code",
      "source": [
        "from typing import List\n",
        "\n",
        "def four_sum(nums: List[int], target: int) -> List[List[int]]:\n",
        "    \"\"\"\n",
        "    Find all unique quadruplets in the array such that their sum equals the target.\n",
        "    \"\"\"\n",
        "    # Sort the array in ascending order\n",
        "    nums = sorted(nums)\n",
        "    result = []\n",
        "\n",
        "    # Iterate through all possible pairs of indices\n",
        "    for i in range(len(nums)):\n",
        "        for j in range(i + 1, len(nums)):\n",
        "            # Use two pointers to find a pair of indices such that their sum equals the target\n",
        "            l, r = j + 1, len(nums) - 1\n",
        "            while l < r:\n",
        "                current_sum = nums[i] + nums[j] + nums[l] + nums[r]\n",
        "\n",
        "                if current_sum < target:\n",
        "                    l += 1\n",
        "                elif current_sum > target:\n",
        "                    r -= 1\n",
        "                else:\n",
        "                    # Add the quadruplet to the result list\n",
        "                    result.append([nums[i], nums[j], nums[l], nums[r]])\n",
        "                    l += 1\n",
        "                    r -= 1\n",
        "\n",
        "    return result\n",
        "\n",
        "# Example Usage:\n",
        "print(four_sum(nums=[1, 0, -1, 0, -2, 2], target=0))\n",
        "print(four_sum(nums=[2, 2, 2, 2], target=8))\n"
      ],
      "metadata": {
        "colab": {
          "base_uri": "https://localhost:8080/"
        },
        "id": "5rWoyCrNHHZk",
        "outputId": "0a3694ea-891f-4c4f-ca87-b7086834d140"
      },
      "execution_count": 18,
      "outputs": [
        {
          "output_type": "stream",
          "name": "stdout",
          "text": [
            "[[-2, -1, 1, 2], [-2, 0, 0, 2], [-1, 0, 0, 1]]\n",
            "[[2, 2, 2, 2]]\n"
          ]
        }
      ]
    }
  ]
}